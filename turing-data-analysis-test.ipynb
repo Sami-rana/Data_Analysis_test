{
 "cells": [
  {
   "cell_type": "code",
   "execution_count": 1,
   "id": "b88eef7a",
   "metadata": {
    "_cell_guid": "b1076dfc-b9ad-4769-8c92-a6c4dae69d19",
    "_uuid": "8f2839f25d086af736a60e9eeb907d3b93b6e0e5",
    "execution": {
     "iopub.execute_input": "2022-10-19T10:41:21.014204Z",
     "iopub.status.busy": "2022-10-19T10:41:21.013738Z",
     "iopub.status.idle": "2022-10-19T10:41:21.038384Z",
     "shell.execute_reply": "2022-10-19T10:41:21.037017Z"
    },
    "papermill": {
     "duration": 0.042036,
     "end_time": "2022-10-19T10:41:21.041624",
     "exception": false,
     "start_time": "2022-10-19T10:41:20.999588",
     "status": "completed"
    },
    "tags": []
   },
   "outputs": [
    {
     "name": "stdout",
     "output_type": "stream",
     "text": [
      "/kaggle/input/covidtest/covid_data.csv\n",
      "/kaggle/input/covidtest/cardio_base.csv\n",
      "/kaggle/input/covidtest/cardio_alco.csv\n"
     ]
    }
   ],
   "source": [
    "# This Python 3 environment comes with many helpful analytics libraries installed\n",
    "# It is defined by the kaggle/python Docker image: https://github.com/kaggle/docker-python\n",
    "# For example, here's several helpful packages to load\n",
    "\n",
    "import numpy as np # linear algebra\n",
    "import pandas as pd # data processing, CSV file I/O (e.g. pd.read_csv)\n",
    "\n",
    "# Input data files are available in the read-only \"../input/\" directory\n",
    "# For example, running this (by clicking run or pressing Shift+Enter) will list all files under the input directory\n",
    "\n",
    "import os\n",
    "for dirname, _, filenames in os.walk('/kaggle/input'):\n",
    "    for filename in filenames:\n",
    "        print(os.path.join(dirname, filename))\n",
    "\n",
    "# You can write up to 20GB to the current directory (/kaggle/working/) that gets preserved as output when you create a version using \"Save & Run All\" \n",
    "# You can also write temporary files to /kaggle/temp/, but they won't be saved outside of the current session"
   ]
  },
  {
   "cell_type": "markdown",
   "id": "d03df201",
   "metadata": {
    "papermill": {
     "duration": 0.010035,
     "end_time": "2022-10-19T10:41:21.062743",
     "exception": false,
     "start_time": "2022-10-19T10:41:21.052708",
     "status": "completed"
    },
    "tags": []
   },
   "source": [
    "# First dataset"
   ]
  },
  {
   "cell_type": "code",
   "execution_count": 2,
   "id": "8968c28d",
   "metadata": {
    "execution": {
     "iopub.execute_input": "2022-10-19T10:41:21.087686Z",
     "iopub.status.busy": "2022-10-19T10:41:21.087025Z",
     "iopub.status.idle": "2022-10-19T10:41:21.230927Z",
     "shell.execute_reply": "2022-10-19T10:41:21.229393Z"
    },
    "papermill": {
     "duration": 0.160507,
     "end_time": "2022-10-19T10:41:21.233896",
     "exception": false,
     "start_time": "2022-10-19T10:41:21.073389",
     "status": "completed"
    },
    "tags": []
   },
   "outputs": [
    {
     "data": {
      "text/html": [
       "<div>\n",
       "<style scoped>\n",
       "    .dataframe tbody tr th:only-of-type {\n",
       "        vertical-align: middle;\n",
       "    }\n",
       "\n",
       "    .dataframe tbody tr th {\n",
       "        vertical-align: top;\n",
       "    }\n",
       "\n",
       "    .dataframe thead th {\n",
       "        text-align: right;\n",
       "    }\n",
       "</style>\n",
       "<table border=\"1\" class=\"dataframe\">\n",
       "  <thead>\n",
       "    <tr style=\"text-align: right;\">\n",
       "      <th></th>\n",
       "      <th>id</th>\n",
       "      <th>age</th>\n",
       "      <th>gender</th>\n",
       "      <th>height</th>\n",
       "      <th>weight</th>\n",
       "      <th>ap_hi</th>\n",
       "      <th>ap_lo</th>\n",
       "      <th>cholesterol</th>\n",
       "      <th>smoke</th>\n",
       "    </tr>\n",
       "  </thead>\n",
       "  <tbody>\n",
       "    <tr>\n",
       "      <th>0</th>\n",
       "      <td>0</td>\n",
       "      <td>18393</td>\n",
       "      <td>2</td>\n",
       "      <td>168</td>\n",
       "      <td>62.0</td>\n",
       "      <td>110</td>\n",
       "      <td>80</td>\n",
       "      <td>1</td>\n",
       "      <td>0</td>\n",
       "    </tr>\n",
       "    <tr>\n",
       "      <th>1</th>\n",
       "      <td>1</td>\n",
       "      <td>20228</td>\n",
       "      <td>1</td>\n",
       "      <td>156</td>\n",
       "      <td>85.0</td>\n",
       "      <td>140</td>\n",
       "      <td>90</td>\n",
       "      <td>3</td>\n",
       "      <td>0</td>\n",
       "    </tr>\n",
       "    <tr>\n",
       "      <th>2</th>\n",
       "      <td>2</td>\n",
       "      <td>18857</td>\n",
       "      <td>1</td>\n",
       "      <td>165</td>\n",
       "      <td>64.0</td>\n",
       "      <td>130</td>\n",
       "      <td>70</td>\n",
       "      <td>3</td>\n",
       "      <td>0</td>\n",
       "    </tr>\n",
       "    <tr>\n",
       "      <th>3</th>\n",
       "      <td>3</td>\n",
       "      <td>17623</td>\n",
       "      <td>2</td>\n",
       "      <td>169</td>\n",
       "      <td>82.0</td>\n",
       "      <td>150</td>\n",
       "      <td>100</td>\n",
       "      <td>1</td>\n",
       "      <td>0</td>\n",
       "    </tr>\n",
       "    <tr>\n",
       "      <th>4</th>\n",
       "      <td>4</td>\n",
       "      <td>17474</td>\n",
       "      <td>1</td>\n",
       "      <td>156</td>\n",
       "      <td>56.0</td>\n",
       "      <td>100</td>\n",
       "      <td>60</td>\n",
       "      <td>1</td>\n",
       "      <td>0</td>\n",
       "    </tr>\n",
       "    <tr>\n",
       "      <th>...</th>\n",
       "      <td>...</td>\n",
       "      <td>...</td>\n",
       "      <td>...</td>\n",
       "      <td>...</td>\n",
       "      <td>...</td>\n",
       "      <td>...</td>\n",
       "      <td>...</td>\n",
       "      <td>...</td>\n",
       "      <td>...</td>\n",
       "    </tr>\n",
       "    <tr>\n",
       "      <th>69995</th>\n",
       "      <td>99993</td>\n",
       "      <td>19240</td>\n",
       "      <td>2</td>\n",
       "      <td>168</td>\n",
       "      <td>76.0</td>\n",
       "      <td>120</td>\n",
       "      <td>80</td>\n",
       "      <td>1</td>\n",
       "      <td>1</td>\n",
       "    </tr>\n",
       "    <tr>\n",
       "      <th>69996</th>\n",
       "      <td>99995</td>\n",
       "      <td>22601</td>\n",
       "      <td>1</td>\n",
       "      <td>158</td>\n",
       "      <td>126.0</td>\n",
       "      <td>140</td>\n",
       "      <td>90</td>\n",
       "      <td>2</td>\n",
       "      <td>0</td>\n",
       "    </tr>\n",
       "    <tr>\n",
       "      <th>69997</th>\n",
       "      <td>99996</td>\n",
       "      <td>19066</td>\n",
       "      <td>2</td>\n",
       "      <td>183</td>\n",
       "      <td>105.0</td>\n",
       "      <td>180</td>\n",
       "      <td>90</td>\n",
       "      <td>3</td>\n",
       "      <td>0</td>\n",
       "    </tr>\n",
       "    <tr>\n",
       "      <th>69998</th>\n",
       "      <td>99998</td>\n",
       "      <td>22431</td>\n",
       "      <td>1</td>\n",
       "      <td>163</td>\n",
       "      <td>72.0</td>\n",
       "      <td>135</td>\n",
       "      <td>80</td>\n",
       "      <td>1</td>\n",
       "      <td>0</td>\n",
       "    </tr>\n",
       "    <tr>\n",
       "      <th>69999</th>\n",
       "      <td>99999</td>\n",
       "      <td>20540</td>\n",
       "      <td>1</td>\n",
       "      <td>170</td>\n",
       "      <td>72.0</td>\n",
       "      <td>120</td>\n",
       "      <td>80</td>\n",
       "      <td>2</td>\n",
       "      <td>0</td>\n",
       "    </tr>\n",
       "  </tbody>\n",
       "</table>\n",
       "<p>70000 rows × 9 columns</p>\n",
       "</div>"
      ],
      "text/plain": [
       "          id    age  gender  height  weight  ap_hi  ap_lo  cholesterol  smoke\n",
       "0          0  18393       2     168    62.0    110     80            1      0\n",
       "1          1  20228       1     156    85.0    140     90            3      0\n",
       "2          2  18857       1     165    64.0    130     70            3      0\n",
       "3          3  17623       2     169    82.0    150    100            1      0\n",
       "4          4  17474       1     156    56.0    100     60            1      0\n",
       "...      ...    ...     ...     ...     ...    ...    ...          ...    ...\n",
       "69995  99993  19240       2     168    76.0    120     80            1      1\n",
       "69996  99995  22601       1     158   126.0    140     90            2      0\n",
       "69997  99996  19066       2     183   105.0    180     90            3      0\n",
       "69998  99998  22431       1     163    72.0    135     80            1      0\n",
       "69999  99999  20540       1     170    72.0    120     80            2      0\n",
       "\n",
       "[70000 rows x 9 columns]"
      ]
     },
     "execution_count": 2,
     "metadata": {},
     "output_type": "execute_result"
    }
   ],
   "source": [
    "cardio_base_df = pd.read_csv('/kaggle/input/covidtest/cardio_base.csv')\n",
    "cardio_base_df"
   ]
  },
  {
   "cell_type": "code",
   "execution_count": 3,
   "id": "e086dfee",
   "metadata": {
    "execution": {
     "iopub.execute_input": "2022-10-19T10:41:21.257057Z",
     "iopub.status.busy": "2022-10-19T10:41:21.256666Z",
     "iopub.status.idle": "2022-10-19T10:41:21.275465Z",
     "shell.execute_reply": "2022-10-19T10:41:21.274675Z"
    },
    "papermill": {
     "duration": 0.032946,
     "end_time": "2022-10-19T10:41:21.277606",
     "exception": false,
     "start_time": "2022-10-19T10:41:21.244660",
     "status": "completed"
    },
    "tags": []
   },
   "outputs": [
    {
     "data": {
      "text/html": [
       "<div>\n",
       "<style scoped>\n",
       "    .dataframe tbody tr th:only-of-type {\n",
       "        vertical-align: middle;\n",
       "    }\n",
       "\n",
       "    .dataframe tbody tr th {\n",
       "        vertical-align: top;\n",
       "    }\n",
       "\n",
       "    .dataframe thead th {\n",
       "        text-align: right;\n",
       "    }\n",
       "</style>\n",
       "<table border=\"1\" class=\"dataframe\">\n",
       "  <thead>\n",
       "    <tr style=\"text-align: right;\">\n",
       "      <th></th>\n",
       "      <th>id</th>\n",
       "      <th>age</th>\n",
       "      <th>gender</th>\n",
       "      <th>height</th>\n",
       "      <th>weight</th>\n",
       "      <th>ap_hi</th>\n",
       "      <th>ap_lo</th>\n",
       "      <th>cholesterol</th>\n",
       "      <th>smoke</th>\n",
       "    </tr>\n",
       "  </thead>\n",
       "  <tbody>\n",
       "    <tr>\n",
       "      <th>0</th>\n",
       "      <td>0</td>\n",
       "      <td>50</td>\n",
       "      <td>2</td>\n",
       "      <td>168</td>\n",
       "      <td>62.0</td>\n",
       "      <td>110</td>\n",
       "      <td>80</td>\n",
       "      <td>1</td>\n",
       "      <td>0</td>\n",
       "    </tr>\n",
       "    <tr>\n",
       "      <th>1</th>\n",
       "      <td>1</td>\n",
       "      <td>55</td>\n",
       "      <td>1</td>\n",
       "      <td>156</td>\n",
       "      <td>85.0</td>\n",
       "      <td>140</td>\n",
       "      <td>90</td>\n",
       "      <td>3</td>\n",
       "      <td>0</td>\n",
       "    </tr>\n",
       "    <tr>\n",
       "      <th>2</th>\n",
       "      <td>2</td>\n",
       "      <td>51</td>\n",
       "      <td>1</td>\n",
       "      <td>165</td>\n",
       "      <td>64.0</td>\n",
       "      <td>130</td>\n",
       "      <td>70</td>\n",
       "      <td>3</td>\n",
       "      <td>0</td>\n",
       "    </tr>\n",
       "    <tr>\n",
       "      <th>3</th>\n",
       "      <td>3</td>\n",
       "      <td>48</td>\n",
       "      <td>2</td>\n",
       "      <td>169</td>\n",
       "      <td>82.0</td>\n",
       "      <td>150</td>\n",
       "      <td>100</td>\n",
       "      <td>1</td>\n",
       "      <td>0</td>\n",
       "    </tr>\n",
       "    <tr>\n",
       "      <th>4</th>\n",
       "      <td>4</td>\n",
       "      <td>47</td>\n",
       "      <td>1</td>\n",
       "      <td>156</td>\n",
       "      <td>56.0</td>\n",
       "      <td>100</td>\n",
       "      <td>60</td>\n",
       "      <td>1</td>\n",
       "      <td>0</td>\n",
       "    </tr>\n",
       "    <tr>\n",
       "      <th>...</th>\n",
       "      <td>...</td>\n",
       "      <td>...</td>\n",
       "      <td>...</td>\n",
       "      <td>...</td>\n",
       "      <td>...</td>\n",
       "      <td>...</td>\n",
       "      <td>...</td>\n",
       "      <td>...</td>\n",
       "      <td>...</td>\n",
       "    </tr>\n",
       "    <tr>\n",
       "      <th>69995</th>\n",
       "      <td>99993</td>\n",
       "      <td>52</td>\n",
       "      <td>2</td>\n",
       "      <td>168</td>\n",
       "      <td>76.0</td>\n",
       "      <td>120</td>\n",
       "      <td>80</td>\n",
       "      <td>1</td>\n",
       "      <td>1</td>\n",
       "    </tr>\n",
       "    <tr>\n",
       "      <th>69996</th>\n",
       "      <td>99995</td>\n",
       "      <td>61</td>\n",
       "      <td>1</td>\n",
       "      <td>158</td>\n",
       "      <td>126.0</td>\n",
       "      <td>140</td>\n",
       "      <td>90</td>\n",
       "      <td>2</td>\n",
       "      <td>0</td>\n",
       "    </tr>\n",
       "    <tr>\n",
       "      <th>69997</th>\n",
       "      <td>99996</td>\n",
       "      <td>52</td>\n",
       "      <td>2</td>\n",
       "      <td>183</td>\n",
       "      <td>105.0</td>\n",
       "      <td>180</td>\n",
       "      <td>90</td>\n",
       "      <td>3</td>\n",
       "      <td>0</td>\n",
       "    </tr>\n",
       "    <tr>\n",
       "      <th>69998</th>\n",
       "      <td>99998</td>\n",
       "      <td>61</td>\n",
       "      <td>1</td>\n",
       "      <td>163</td>\n",
       "      <td>72.0</td>\n",
       "      <td>135</td>\n",
       "      <td>80</td>\n",
       "      <td>1</td>\n",
       "      <td>0</td>\n",
       "    </tr>\n",
       "    <tr>\n",
       "      <th>69999</th>\n",
       "      <td>99999</td>\n",
       "      <td>56</td>\n",
       "      <td>1</td>\n",
       "      <td>170</td>\n",
       "      <td>72.0</td>\n",
       "      <td>120</td>\n",
       "      <td>80</td>\n",
       "      <td>2</td>\n",
       "      <td>0</td>\n",
       "    </tr>\n",
       "  </tbody>\n",
       "</table>\n",
       "<p>70000 rows × 9 columns</p>\n",
       "</div>"
      ],
      "text/plain": [
       "          id  age  gender  height  weight  ap_hi  ap_lo  cholesterol  smoke\n",
       "0          0   50       2     168    62.0    110     80            1      0\n",
       "1          1   55       1     156    85.0    140     90            3      0\n",
       "2          2   51       1     165    64.0    130     70            3      0\n",
       "3          3   48       2     169    82.0    150    100            1      0\n",
       "4          4   47       1     156    56.0    100     60            1      0\n",
       "...      ...  ...     ...     ...     ...    ...    ...          ...    ...\n",
       "69995  99993   52       2     168    76.0    120     80            1      1\n",
       "69996  99995   61       1     158   126.0    140     90            2      0\n",
       "69997  99996   52       2     183   105.0    180     90            3      0\n",
       "69998  99998   61       1     163    72.0    135     80            1      0\n",
       "69999  99999   56       1     170    72.0    120     80            2      0\n",
       "\n",
       "[70000 rows x 9 columns]"
      ]
     },
     "execution_count": 3,
     "metadata": {},
     "output_type": "execute_result"
    }
   ],
   "source": [
    "cardio_base_df['age'] = (cardio_base_df['age'] / 365).astype(int)\n",
    "cardio_base_df"
   ]
  },
  {
   "cell_type": "markdown",
   "id": "b248b43c",
   "metadata": {
    "papermill": {
     "duration": 0.011197,
     "end_time": "2022-10-19T10:41:21.300234",
     "exception": false,
     "start_time": "2022-10-19T10:41:21.289037",
     "status": "completed"
    },
    "tags": []
   },
   "source": [
    "How much heavier the age group with the highest average weight than the age group with the lowest weight?"
   ]
  },
  {
   "cell_type": "code",
   "execution_count": 4,
   "id": "dd5f0349",
   "metadata": {
    "execution": {
     "iopub.execute_input": "2022-10-19T10:41:21.324284Z",
     "iopub.status.busy": "2022-10-19T10:41:21.323354Z",
     "iopub.status.idle": "2022-10-19T10:41:21.340215Z",
     "shell.execute_reply": "2022-10-19T10:41:21.339508Z"
    },
    "papermill": {
     "duration": 0.031045,
     "end_time": "2022-10-19T10:41:21.342233",
     "exception": false,
     "start_time": "2022-10-19T10:41:21.311188",
     "status": "completed"
    },
    "tags": []
   },
   "outputs": [
    {
     "data": {
      "text/plain": [
       "weight    0.285995\n",
       "dtype: float64"
      ]
     },
     "execution_count": 4,
     "metadata": {},
     "output_type": "execute_result"
    }
   ],
   "source": [
    "avg_weight_by_age = cardio_base_df.groupby('age').agg({'weight': 'mean'})\n",
    "avg_weight_by_age.max() / avg_weight_by_age.min() - 1"
   ]
  },
  {
   "cell_type": "markdown",
   "id": "2ff4f64d",
   "metadata": {
    "papermill": {
     "duration": 0.011036,
     "end_time": "2022-10-19T10:41:21.364655",
     "exception": false,
     "start_time": "2022-10-19T10:41:21.353619",
     "status": "completed"
    },
    "tags": []
   },
   "source": [
    "Do people over 50 have higher cholesterol levels than the rest?"
   ]
  },
  {
   "cell_type": "code",
   "execution_count": 5,
   "id": "0a1661ae",
   "metadata": {
    "execution": {
     "iopub.execute_input": "2022-10-19T10:41:21.388786Z",
     "iopub.status.busy": "2022-10-19T10:41:21.388129Z",
     "iopub.status.idle": "2022-10-19T10:41:21.402417Z",
     "shell.execute_reply": "2022-10-19T10:41:21.401673Z"
    },
    "papermill": {
     "duration": 0.028786,
     "end_time": "2022-10-19T10:41:21.404555",
     "exception": false,
     "start_time": "2022-10-19T10:41:21.375769",
     "status": "completed"
    },
    "tags": []
   },
   "outputs": [
    {
     "data": {
      "text/plain": [
       "cholesterol    0.195108\n",
       "dtype: float64"
      ]
     },
     "execution_count": 5,
     "metadata": {},
     "output_type": "execute_result"
    }
   ],
   "source": [
    "avg_cholesterol_by_age = cardio_base_df.groupby('age').agg({'cholesterol': 'mean'})\n",
    "avg_cholesterol_by_age[avg_cholesterol_by_age.index > 50].mean() / avg_cholesterol_by_age[avg_cholesterol_by_age.index <= 50].mean() - 1"
   ]
  },
  {
   "cell_type": "markdown",
   "id": "12425f58",
   "metadata": {
    "papermill": {
     "duration": 0.011373,
     "end_time": "2022-10-19T10:41:21.427557",
     "exception": false,
     "start_time": "2022-10-19T10:41:21.416184",
     "status": "completed"
    },
    "tags": []
   },
   "source": [
    "Are men more likely to be a smoker than women?"
   ]
  },
  {
   "cell_type": "code",
   "execution_count": 6,
   "id": "bc300d60",
   "metadata": {
    "execution": {
     "iopub.execute_input": "2022-10-19T10:41:21.452161Z",
     "iopub.status.busy": "2022-10-19T10:41:21.451493Z",
     "iopub.status.idle": "2022-10-19T10:41:21.465680Z",
     "shell.execute_reply": "2022-10-19T10:41:21.464632Z"
    },
    "papermill": {
     "duration": 0.029436,
     "end_time": "2022-10-19T10:41:21.468166",
     "exception": false,
     "start_time": "2022-10-19T10:41:21.438730",
     "status": "completed"
    },
    "tags": []
   },
   "outputs": [
    {
     "data": {
      "text/plain": [
       "6.587945879458794"
      ]
     },
     "execution_count": 6,
     "metadata": {},
     "output_type": "execute_result"
    }
   ],
   "source": [
    "num_smoker_by_gender = cardio_base_df.groupby('gender').agg({'smoke': 'sum'})\n",
    "# num_smoker_by_gender\n",
    "# num_smoker_by_gender[num_smoker_by_gender.index == 1]['smoke']\n",
    "num_smoker_by_gender[num_smoker_by_gender.index == 2]['smoke'].item() / num_smoker_by_gender[num_smoker_by_gender.index == 1]['smoke'].item()"
   ]
  },
  {
   "cell_type": "markdown",
   "id": "f28acfae",
   "metadata": {
    "papermill": {
     "duration": 0.011042,
     "end_time": "2022-10-19T10:41:21.490604",
     "exception": false,
     "start_time": "2022-10-19T10:41:21.479562",
     "status": "completed"
    },
    "tags": []
   },
   "source": [
    "How tall are the tallest 1% of people"
   ]
  },
  {
   "cell_type": "code",
   "execution_count": 7,
   "id": "a368a4e3",
   "metadata": {
    "execution": {
     "iopub.execute_input": "2022-10-19T10:41:21.515307Z",
     "iopub.status.busy": "2022-10-19T10:41:21.514672Z",
     "iopub.status.idle": "2022-10-19T10:41:21.526009Z",
     "shell.execute_reply": "2022-10-19T10:41:21.524852Z"
    },
    "papermill": {
     "duration": 0.02625,
     "end_time": "2022-10-19T10:41:21.528173",
     "exception": false,
     "start_time": "2022-10-19T10:41:21.501923",
     "status": "completed"
    },
    "tags": []
   },
   "outputs": [
    {
     "data": {
      "text/plain": [
       "184.0"
      ]
     },
     "execution_count": 7,
     "metadata": {},
     "output_type": "execute_result"
    }
   ],
   "source": [
    "cardio_base_df['height'].quantile(0.99)"
   ]
  },
  {
   "cell_type": "markdown",
   "id": "e0874447",
   "metadata": {
    "papermill": {
     "duration": 0.011082,
     "end_time": "2022-10-19T10:41:21.550632",
     "exception": false,
     "start_time": "2022-10-19T10:41:21.539550",
     "status": "completed"
    },
    "tags": []
   },
   "source": [
    "Which two features have the highest spearman rank correlation?"
   ]
  },
  {
   "cell_type": "code",
   "execution_count": 8,
   "id": "6a084ea0",
   "metadata": {
    "execution": {
     "iopub.execute_input": "2022-10-19T10:41:21.575369Z",
     "iopub.status.busy": "2022-10-19T10:41:21.574732Z",
     "iopub.status.idle": "2022-10-19T10:41:23.373345Z",
     "shell.execute_reply": "2022-10-19T10:41:23.372372Z"
    },
    "papermill": {
     "duration": 1.813648,
     "end_time": "2022-10-19T10:41:23.375574",
     "exception": false,
     "start_time": "2022-10-19T10:41:21.561926",
     "status": "completed"
    },
    "tags": []
   },
   "outputs": [
    {
     "data": {
      "image/png": "[encoded data removed]",
      "text/plain": [
       "<Figure size 1440x720 with 2 Axes>"
      ]
     },
     "metadata": {
      "needs_background": "light"
     },
     "output_type": "display_data"
    }
   ],
   "source": [
    "import seaborn as sns\n",
    "import matplotlib.pyplot as plt\n",
    "plt.figure(figsize=(20,10))\n",
    "corr = cardio_base_df.corr(method = 'spearman')\n",
    "sns.heatmap(corr, annot = True)\n",
    "plt.show()"
   ]
  },
  {
   "cell_type": "markdown",
   "id": "77d9bab5",
   "metadata": {
    "papermill": {
     "duration": 0.012832,
     "end_time": "2022-10-19T10:41:23.401033",
     "exception": false,
     "start_time": "2022-10-19T10:41:23.388201",
     "status": "completed"
    },
    "tags": []
   },
   "source": [
    "What percentage of people are more than 2 standard deviations far from the average height?"
   ]
  },
  {
   "cell_type": "code",
   "execution_count": 9,
   "id": "45da2875",
   "metadata": {
    "execution": {
     "iopub.execute_input": "2022-10-19T10:41:23.428276Z",
     "iopub.status.busy": "2022-10-19T10:41:23.427609Z",
     "iopub.status.idle": "2022-10-19T10:41:23.441684Z",
     "shell.execute_reply": "2022-10-19T10:41:23.440382Z"
    },
    "papermill": {
     "duration": 0.030414,
     "end_time": "2022-10-19T10:41:23.444074",
     "exception": false,
     "start_time": "2022-10-19T10:41:23.413660",
     "status": "completed"
    },
    "tags": []
   },
   "outputs": [
    {
     "data": {
      "text/plain": [
       "0.033357142857142856"
      ]
     },
     "execution_count": 9,
     "metadata": {},
     "output_type": "execute_result"
    }
   ],
   "source": [
    "height_avg = cardio_base_df.height.mean()\n",
    "height_std = cardio_base_df.height.std()\n",
    "len(cardio_base_df[abs(cardio_base_df.height - height_avg) > 2 * height_std]) / len(cardio_base_df.height)"
   ]
  },
  {
   "cell_type": "markdown",
   "id": "ca6bf1a6",
   "metadata": {
    "papermill": {
     "duration": 0.012826,
     "end_time": "2022-10-19T10:41:23.469559",
     "exception": false,
     "start_time": "2022-10-19T10:41:23.456733",
     "status": "completed"
    },
    "tags": []
   },
   "source": [
    "What percentage of the population over 50 years old consume alcohol?\n",
    "Ignore those persons, where we have no alcohol sonsumption information!"
   ]
  },
  {
   "cell_type": "code",
   "execution_count": 10,
   "id": "af619423",
   "metadata": {
    "execution": {
     "iopub.execute_input": "2022-10-19T10:41:23.496542Z",
     "iopub.status.busy": "2022-10-19T10:41:23.496101Z",
     "iopub.status.idle": "2022-10-19T10:41:23.529688Z",
     "shell.execute_reply": "2022-10-19T10:41:23.528506Z"
    },
    "papermill": {
     "duration": 0.050095,
     "end_time": "2022-10-19T10:41:23.532222",
     "exception": false,
     "start_time": "2022-10-19T10:41:23.482127",
     "status": "completed"
    },
    "tags": []
   },
   "outputs": [
    {
     "data": {
      "text/html": [
       "<div>\n",
       "<style scoped>\n",
       "    .dataframe tbody tr th:only-of-type {\n",
       "        vertical-align: middle;\n",
       "    }\n",
       "\n",
       "    .dataframe tbody tr th {\n",
       "        vertical-align: top;\n",
       "    }\n",
       "\n",
       "    .dataframe thead th {\n",
       "        text-align: right;\n",
       "    }\n",
       "</style>\n",
       "<table border=\"1\" class=\"dataframe\">\n",
       "  <thead>\n",
       "    <tr style=\"text-align: right;\">\n",
       "      <th></th>\n",
       "      <th>id</th>\n",
       "      <th>alco</th>\n",
       "    </tr>\n",
       "  </thead>\n",
       "  <tbody>\n",
       "    <tr>\n",
       "      <th>0</th>\n",
       "      <td>44</td>\n",
       "      <td>0</td>\n",
       "    </tr>\n",
       "    <tr>\n",
       "      <th>1</th>\n",
       "      <td>45</td>\n",
       "      <td>0</td>\n",
       "    </tr>\n",
       "    <tr>\n",
       "      <th>2</th>\n",
       "      <td>46</td>\n",
       "      <td>0</td>\n",
       "    </tr>\n",
       "    <tr>\n",
       "      <th>3</th>\n",
       "      <td>47</td>\n",
       "      <td>0</td>\n",
       "    </tr>\n",
       "    <tr>\n",
       "      <th>4</th>\n",
       "      <td>49</td>\n",
       "      <td>0</td>\n",
       "    </tr>\n",
       "    <tr>\n",
       "      <th>...</th>\n",
       "      <td>...</td>\n",
       "      <td>...</td>\n",
       "    </tr>\n",
       "    <tr>\n",
       "      <th>56898</th>\n",
       "      <td>99949</td>\n",
       "      <td>0</td>\n",
       "    </tr>\n",
       "    <tr>\n",
       "      <th>56899</th>\n",
       "      <td>99950</td>\n",
       "      <td>0</td>\n",
       "    </tr>\n",
       "    <tr>\n",
       "      <th>56900</th>\n",
       "      <td>99951</td>\n",
       "      <td>0</td>\n",
       "    </tr>\n",
       "    <tr>\n",
       "      <th>56901</th>\n",
       "      <td>99952</td>\n",
       "      <td>0</td>\n",
       "    </tr>\n",
       "    <tr>\n",
       "      <th>56902</th>\n",
       "      <td>99954</td>\n",
       "      <td>0</td>\n",
       "    </tr>\n",
       "  </tbody>\n",
       "</table>\n",
       "<p>56903 rows × 2 columns</p>\n",
       "</div>"
      ],
      "text/plain": [
       "          id  alco\n",
       "0         44     0\n",
       "1         45     0\n",
       "2         46     0\n",
       "3         47     0\n",
       "4         49     0\n",
       "...      ...   ...\n",
       "56898  99949     0\n",
       "56899  99950     0\n",
       "56900  99951     0\n",
       "56901  99952     0\n",
       "56902  99954     0\n",
       "\n",
       "[56903 rows x 2 columns]"
      ]
     },
     "execution_count": 10,
     "metadata": {},
     "output_type": "execute_result"
    }
   ],
   "source": [
    "cardio_alco_df = pd.read_csv('/kaggle/input/covidtest/cardio_alco.csv', sep=';')\n",
    "cardio_alco_df"
   ]
  },
  {
   "cell_type": "code",
   "execution_count": 11,
   "id": "3e496dee",
   "metadata": {
    "execution": {
     "iopub.execute_input": "2022-10-19T10:41:23.559585Z",
     "iopub.status.busy": "2022-10-19T10:41:23.558940Z",
     "iopub.status.idle": "2022-10-19T10:41:23.602216Z",
     "shell.execute_reply": "2022-10-19T10:41:23.601028Z"
    },
    "papermill": {
     "duration": 0.059592,
     "end_time": "2022-10-19T10:41:23.604666",
     "exception": false,
     "start_time": "2022-10-19T10:41:23.545074",
     "status": "completed"
    },
    "tags": []
   },
   "outputs": [
    {
     "data": {
      "text/html": [
       "<div>\n",
       "<style scoped>\n",
       "    .dataframe tbody tr th:only-of-type {\n",
       "        vertical-align: middle;\n",
       "    }\n",
       "\n",
       "    .dataframe tbody tr th {\n",
       "        vertical-align: top;\n",
       "    }\n",
       "\n",
       "    .dataframe thead th {\n",
       "        text-align: right;\n",
       "    }\n",
       "</style>\n",
       "<table border=\"1\" class=\"dataframe\">\n",
       "  <thead>\n",
       "    <tr style=\"text-align: right;\">\n",
       "      <th></th>\n",
       "      <th>id</th>\n",
       "      <th>age</th>\n",
       "      <th>gender</th>\n",
       "      <th>height</th>\n",
       "      <th>weight</th>\n",
       "      <th>ap_hi</th>\n",
       "      <th>ap_lo</th>\n",
       "      <th>cholesterol</th>\n",
       "      <th>smoke</th>\n",
       "      <th>alco</th>\n",
       "    </tr>\n",
       "  </thead>\n",
       "  <tbody>\n",
       "    <tr>\n",
       "      <th>0</th>\n",
       "      <td>44</td>\n",
       "      <td>40</td>\n",
       "      <td>1</td>\n",
       "      <td>159</td>\n",
       "      <td>60.0</td>\n",
       "      <td>110</td>\n",
       "      <td>70</td>\n",
       "      <td>1</td>\n",
       "      <td>0</td>\n",
       "      <td>0</td>\n",
       "    </tr>\n",
       "    <tr>\n",
       "      <th>1</th>\n",
       "      <td>45</td>\n",
       "      <td>56</td>\n",
       "      <td>1</td>\n",
       "      <td>160</td>\n",
       "      <td>73.0</td>\n",
       "      <td>130</td>\n",
       "      <td>85</td>\n",
       "      <td>1</td>\n",
       "      <td>0</td>\n",
       "      <td>0</td>\n",
       "    </tr>\n",
       "    <tr>\n",
       "      <th>2</th>\n",
       "      <td>46</td>\n",
       "      <td>60</td>\n",
       "      <td>2</td>\n",
       "      <td>173</td>\n",
       "      <td>82.0</td>\n",
       "      <td>140</td>\n",
       "      <td>90</td>\n",
       "      <td>3</td>\n",
       "      <td>0</td>\n",
       "      <td>0</td>\n",
       "    </tr>\n",
       "    <tr>\n",
       "      <th>3</th>\n",
       "      <td>47</td>\n",
       "      <td>55</td>\n",
       "      <td>1</td>\n",
       "      <td>163</td>\n",
       "      <td>55.0</td>\n",
       "      <td>120</td>\n",
       "      <td>80</td>\n",
       "      <td>1</td>\n",
       "      <td>0</td>\n",
       "      <td>0</td>\n",
       "    </tr>\n",
       "    <tr>\n",
       "      <th>4</th>\n",
       "      <td>49</td>\n",
       "      <td>50</td>\n",
       "      <td>2</td>\n",
       "      <td>175</td>\n",
       "      <td>95.0</td>\n",
       "      <td>120</td>\n",
       "      <td>80</td>\n",
       "      <td>1</td>\n",
       "      <td>0</td>\n",
       "      <td>0</td>\n",
       "    </tr>\n",
       "    <tr>\n",
       "      <th>...</th>\n",
       "      <td>...</td>\n",
       "      <td>...</td>\n",
       "      <td>...</td>\n",
       "      <td>...</td>\n",
       "      <td>...</td>\n",
       "      <td>...</td>\n",
       "      <td>...</td>\n",
       "      <td>...</td>\n",
       "      <td>...</td>\n",
       "      <td>...</td>\n",
       "    </tr>\n",
       "    <tr>\n",
       "      <th>56898</th>\n",
       "      <td>99949</td>\n",
       "      <td>57</td>\n",
       "      <td>1</td>\n",
       "      <td>178</td>\n",
       "      <td>69.0</td>\n",
       "      <td>130</td>\n",
       "      <td>90</td>\n",
       "      <td>1</td>\n",
       "      <td>0</td>\n",
       "      <td>0</td>\n",
       "    </tr>\n",
       "    <tr>\n",
       "      <th>56899</th>\n",
       "      <td>99950</td>\n",
       "      <td>53</td>\n",
       "      <td>2</td>\n",
       "      <td>155</td>\n",
       "      <td>76.0</td>\n",
       "      <td>130</td>\n",
       "      <td>90</td>\n",
       "      <td>1</td>\n",
       "      <td>0</td>\n",
       "      <td>0</td>\n",
       "    </tr>\n",
       "    <tr>\n",
       "      <th>56900</th>\n",
       "      <td>99951</td>\n",
       "      <td>61</td>\n",
       "      <td>2</td>\n",
       "      <td>170</td>\n",
       "      <td>72.0</td>\n",
       "      <td>120</td>\n",
       "      <td>80</td>\n",
       "      <td>1</td>\n",
       "      <td>0</td>\n",
       "      <td>0</td>\n",
       "    </tr>\n",
       "    <tr>\n",
       "      <th>56901</th>\n",
       "      <td>99952</td>\n",
       "      <td>42</td>\n",
       "      <td>2</td>\n",
       "      <td>165</td>\n",
       "      <td>66.0</td>\n",
       "      <td>120</td>\n",
       "      <td>80</td>\n",
       "      <td>1</td>\n",
       "      <td>0</td>\n",
       "      <td>0</td>\n",
       "    </tr>\n",
       "    <tr>\n",
       "      <th>56902</th>\n",
       "      <td>99954</td>\n",
       "      <td>55</td>\n",
       "      <td>1</td>\n",
       "      <td>156</td>\n",
       "      <td>67.0</td>\n",
       "      <td>140</td>\n",
       "      <td>80</td>\n",
       "      <td>2</td>\n",
       "      <td>0</td>\n",
       "      <td>0</td>\n",
       "    </tr>\n",
       "  </tbody>\n",
       "</table>\n",
       "<p>56903 rows × 10 columns</p>\n",
       "</div>"
      ],
      "text/plain": [
       "          id  age  gender  height  weight  ap_hi  ap_lo  cholesterol  smoke  \\\n",
       "0         44   40       1     159    60.0    110     70            1      0   \n",
       "1         45   56       1     160    73.0    130     85            1      0   \n",
       "2         46   60       2     173    82.0    140     90            3      0   \n",
       "3         47   55       1     163    55.0    120     80            1      0   \n",
       "4         49   50       2     175    95.0    120     80            1      0   \n",
       "...      ...  ...     ...     ...     ...    ...    ...          ...    ...   \n",
       "56898  99949   57       1     178    69.0    130     90            1      0   \n",
       "56899  99950   53       2     155    76.0    130     90            1      0   \n",
       "56900  99951   61       2     170    72.0    120     80            1      0   \n",
       "56901  99952   42       2     165    66.0    120     80            1      0   \n",
       "56902  99954   55       1     156    67.0    140     80            2      0   \n",
       "\n",
       "       alco  \n",
       "0         0  \n",
       "1         0  \n",
       "2         0  \n",
       "3         0  \n",
       "4         0  \n",
       "...     ...  \n",
       "56898     0  \n",
       "56899     0  \n",
       "56900     0  \n",
       "56901     0  \n",
       "56902     0  \n",
       "\n",
       "[56903 rows x 10 columns]"
      ]
     },
     "execution_count": 11,
     "metadata": {},
     "output_type": "execute_result"
    }
   ],
   "source": [
    "cardio_merged_df = pd.merge(cardio_base_df, cardio_alco_df, on='id')\n",
    "cardio_merged_df"
   ]
  },
  {
   "cell_type": "code",
   "execution_count": 12,
   "id": "92693220",
   "metadata": {
    "execution": {
     "iopub.execute_input": "2022-10-19T10:41:23.632655Z",
     "iopub.status.busy": "2022-10-19T10:41:23.632210Z",
     "iopub.status.idle": "2022-10-19T10:41:23.651609Z",
     "shell.execute_reply": "2022-10-19T10:41:23.650382Z"
    },
    "papermill": {
     "duration": 0.036406,
     "end_time": "2022-10-19T10:41:23.654159",
     "exception": false,
     "start_time": "2022-10-19T10:41:23.617753",
     "status": "completed"
    },
    "tags": []
   },
   "outputs": [
    {
     "data": {
      "text/plain": [
       "0.049086076910560286"
      ]
     },
     "execution_count": 12,
     "metadata": {},
     "output_type": "execute_result"
    }
   ],
   "source": [
    "cardio_over_50_df = cardio_merged_df[cardio_merged_df['age'] > 50]\n",
    "# cardio_over_50_df\n",
    "len(cardio_over_50_df[cardio_over_50_df['alco'] == 1]) / len(cardio_over_50_df)"
   ]
  },
  {
   "cell_type": "markdown",
   "id": "a7b0165f",
   "metadata": {
    "papermill": {
     "duration": 0.012936,
     "end_time": "2022-10-19T10:41:23.680699",
     "exception": false,
     "start_time": "2022-10-19T10:41:23.667763",
     "status": "completed"
    },
    "tags": []
   },
   "source": [
    "Which of the following statements is true with 95% confidence?\n",
    "- Smokers have higher blood presure than non-smokers\n",
    "- Smokers have higher cholesterol level than non-smokers\n",
    "- Smokers weight less than non smokers\n",
    "- Men have higher blood pressure than women"
   ]
  },
  {
   "cell_type": "code",
   "execution_count": 13,
   "id": "d2f87473",
   "metadata": {
    "execution": {
     "iopub.execute_input": "2022-10-19T10:41:23.708308Z",
     "iopub.status.busy": "2022-10-19T10:41:23.707924Z",
     "iopub.status.idle": "2022-10-19T10:41:23.728444Z",
     "shell.execute_reply": "2022-10-19T10:41:23.727373Z"
    },
    "papermill": {
     "duration": 0.03704,
     "end_time": "2022-10-19T10:41:23.730751",
     "exception": false,
     "start_time": "2022-10-19T10:41:23.693711",
     "status": "completed"
    },
    "tags": []
   },
   "outputs": [
    {
     "data": {
      "text/html": [
       "<div>\n",
       "<style scoped>\n",
       "    .dataframe tbody tr th:only-of-type {\n",
       "        vertical-align: middle;\n",
       "    }\n",
       "\n",
       "    .dataframe tbody tr th {\n",
       "        vertical-align: top;\n",
       "    }\n",
       "\n",
       "    .dataframe thead th {\n",
       "        text-align: right;\n",
       "    }\n",
       "</style>\n",
       "<table border=\"1\" class=\"dataframe\">\n",
       "  <thead>\n",
       "    <tr style=\"text-align: right;\">\n",
       "      <th></th>\n",
       "      <th>id</th>\n",
       "      <th>age</th>\n",
       "      <th>gender</th>\n",
       "      <th>height</th>\n",
       "      <th>weight</th>\n",
       "      <th>ap_hi</th>\n",
       "      <th>ap_lo</th>\n",
       "      <th>cholesterol</th>\n",
       "      <th>smoke</th>\n",
       "      <th>ap_mean</th>\n",
       "    </tr>\n",
       "  </thead>\n",
       "  <tbody>\n",
       "    <tr>\n",
       "      <th>0</th>\n",
       "      <td>0</td>\n",
       "      <td>50</td>\n",
       "      <td>2</td>\n",
       "      <td>168</td>\n",
       "      <td>62.0</td>\n",
       "      <td>110</td>\n",
       "      <td>80</td>\n",
       "      <td>1</td>\n",
       "      <td>0</td>\n",
       "      <td>95.0</td>\n",
       "    </tr>\n",
       "    <tr>\n",
       "      <th>1</th>\n",
       "      <td>1</td>\n",
       "      <td>55</td>\n",
       "      <td>1</td>\n",
       "      <td>156</td>\n",
       "      <td>85.0</td>\n",
       "      <td>140</td>\n",
       "      <td>90</td>\n",
       "      <td>3</td>\n",
       "      <td>0</td>\n",
       "      <td>115.0</td>\n",
       "    </tr>\n",
       "    <tr>\n",
       "      <th>2</th>\n",
       "      <td>2</td>\n",
       "      <td>51</td>\n",
       "      <td>1</td>\n",
       "      <td>165</td>\n",
       "      <td>64.0</td>\n",
       "      <td>130</td>\n",
       "      <td>70</td>\n",
       "      <td>3</td>\n",
       "      <td>0</td>\n",
       "      <td>100.0</td>\n",
       "    </tr>\n",
       "    <tr>\n",
       "      <th>3</th>\n",
       "      <td>3</td>\n",
       "      <td>48</td>\n",
       "      <td>2</td>\n",
       "      <td>169</td>\n",
       "      <td>82.0</td>\n",
       "      <td>150</td>\n",
       "      <td>100</td>\n",
       "      <td>1</td>\n",
       "      <td>0</td>\n",
       "      <td>125.0</td>\n",
       "    </tr>\n",
       "    <tr>\n",
       "      <th>4</th>\n",
       "      <td>4</td>\n",
       "      <td>47</td>\n",
       "      <td>1</td>\n",
       "      <td>156</td>\n",
       "      <td>56.0</td>\n",
       "      <td>100</td>\n",
       "      <td>60</td>\n",
       "      <td>1</td>\n",
       "      <td>0</td>\n",
       "      <td>80.0</td>\n",
       "    </tr>\n",
       "    <tr>\n",
       "      <th>...</th>\n",
       "      <td>...</td>\n",
       "      <td>...</td>\n",
       "      <td>...</td>\n",
       "      <td>...</td>\n",
       "      <td>...</td>\n",
       "      <td>...</td>\n",
       "      <td>...</td>\n",
       "      <td>...</td>\n",
       "      <td>...</td>\n",
       "      <td>...</td>\n",
       "    </tr>\n",
       "    <tr>\n",
       "      <th>69995</th>\n",
       "      <td>99993</td>\n",
       "      <td>52</td>\n",
       "      <td>2</td>\n",
       "      <td>168</td>\n",
       "      <td>76.0</td>\n",
       "      <td>120</td>\n",
       "      <td>80</td>\n",
       "      <td>1</td>\n",
       "      <td>1</td>\n",
       "      <td>100.0</td>\n",
       "    </tr>\n",
       "    <tr>\n",
       "      <th>69996</th>\n",
       "      <td>99995</td>\n",
       "      <td>61</td>\n",
       "      <td>1</td>\n",
       "      <td>158</td>\n",
       "      <td>126.0</td>\n",
       "      <td>140</td>\n",
       "      <td>90</td>\n",
       "      <td>2</td>\n",
       "      <td>0</td>\n",
       "      <td>115.0</td>\n",
       "    </tr>\n",
       "    <tr>\n",
       "      <th>69997</th>\n",
       "      <td>99996</td>\n",
       "      <td>52</td>\n",
       "      <td>2</td>\n",
       "      <td>183</td>\n",
       "      <td>105.0</td>\n",
       "      <td>180</td>\n",
       "      <td>90</td>\n",
       "      <td>3</td>\n",
       "      <td>0</td>\n",
       "      <td>135.0</td>\n",
       "    </tr>\n",
       "    <tr>\n",
       "      <th>69998</th>\n",
       "      <td>99998</td>\n",
       "      <td>61</td>\n",
       "      <td>1</td>\n",
       "      <td>163</td>\n",
       "      <td>72.0</td>\n",
       "      <td>135</td>\n",
       "      <td>80</td>\n",
       "      <td>1</td>\n",
       "      <td>0</td>\n",
       "      <td>107.5</td>\n",
       "    </tr>\n",
       "    <tr>\n",
       "      <th>69999</th>\n",
       "      <td>99999</td>\n",
       "      <td>56</td>\n",
       "      <td>1</td>\n",
       "      <td>170</td>\n",
       "      <td>72.0</td>\n",
       "      <td>120</td>\n",
       "      <td>80</td>\n",
       "      <td>2</td>\n",
       "      <td>0</td>\n",
       "      <td>100.0</td>\n",
       "    </tr>\n",
       "  </tbody>\n",
       "</table>\n",
       "<p>70000 rows × 10 columns</p>\n",
       "</div>"
      ],
      "text/plain": [
       "          id  age  gender  height  weight  ap_hi  ap_lo  cholesterol  smoke  \\\n",
       "0          0   50       2     168    62.0    110     80            1      0   \n",
       "1          1   55       1     156    85.0    140     90            3      0   \n",
       "2          2   51       1     165    64.0    130     70            3      0   \n",
       "3          3   48       2     169    82.0    150    100            1      0   \n",
       "4          4   47       1     156    56.0    100     60            1      0   \n",
       "...      ...  ...     ...     ...     ...    ...    ...          ...    ...   \n",
       "69995  99993   52       2     168    76.0    120     80            1      1   \n",
       "69996  99995   61       1     158   126.0    140     90            2      0   \n",
       "69997  99996   52       2     183   105.0    180     90            3      0   \n",
       "69998  99998   61       1     163    72.0    135     80            1      0   \n",
       "69999  99999   56       1     170    72.0    120     80            2      0   \n",
       "\n",
       "       ap_mean  \n",
       "0         95.0  \n",
       "1        115.0  \n",
       "2        100.0  \n",
       "3        125.0  \n",
       "4         80.0  \n",
       "...        ...  \n",
       "69995    100.0  \n",
       "69996    115.0  \n",
       "69997    135.0  \n",
       "69998    107.5  \n",
       "69999    100.0  \n",
       "\n",
       "[70000 rows x 10 columns]"
      ]
     },
     "execution_count": 13,
     "metadata": {},
     "output_type": "execute_result"
    }
   ],
   "source": [
    "cardio_base_df['ap_mean'] = (cardio_base_df['ap_hi'] + cardio_base_df['ap_lo']) / 2\n",
    "cardio_base_df"
   ]
  },
  {
   "cell_type": "code",
   "execution_count": 14,
   "id": "9b4b4e8e",
   "metadata": {
    "execution": {
     "iopub.execute_input": "2022-10-19T10:41:23.759821Z",
     "iopub.status.busy": "2022-10-19T10:41:23.759007Z",
     "iopub.status.idle": "2022-10-19T10:41:23.779725Z",
     "shell.execute_reply": "2022-10-19T10:41:23.778656Z"
    },
    "papermill": {
     "duration": 0.037937,
     "end_time": "2022-10-19T10:41:23.782173",
     "exception": false,
     "start_time": "2022-10-19T10:41:23.744236",
     "status": "completed"
    },
    "tags": []
   },
   "outputs": [
    {
     "data": {
      "text/html": [
       "<div>\n",
       "<style scoped>\n",
       "    .dataframe tbody tr th:only-of-type {\n",
       "        vertical-align: middle;\n",
       "    }\n",
       "\n",
       "    .dataframe tbody tr th {\n",
       "        vertical-align: top;\n",
       "    }\n",
       "\n",
       "    .dataframe thead th {\n",
       "        text-align: right;\n",
       "    }\n",
       "</style>\n",
       "<table border=\"1\" class=\"dataframe\">\n",
       "  <thead>\n",
       "    <tr style=\"text-align: right;\">\n",
       "      <th></th>\n",
       "      <th>mean</th>\n",
       "      <th>sem</th>\n",
       "      <th>ci95_hi</th>\n",
       "      <th>ci95_lo</th>\n",
       "    </tr>\n",
       "    <tr>\n",
       "      <th>smoke</th>\n",
       "      <th></th>\n",
       "      <th></th>\n",
       "      <th></th>\n",
       "      <th></th>\n",
       "    </tr>\n",
       "  </thead>\n",
       "  <tbody>\n",
       "    <tr>\n",
       "      <th>0</th>\n",
       "      <td>112.593990</td>\n",
       "      <td>0.497122</td>\n",
       "      <td>113.568349</td>\n",
       "      <td>111.619631</td>\n",
       "    </tr>\n",
       "    <tr>\n",
       "      <th>1</th>\n",
       "      <td>114.067515</td>\n",
       "      <td>1.101288</td>\n",
       "      <td>116.226040</td>\n",
       "      <td>111.908990</td>\n",
       "    </tr>\n",
       "  </tbody>\n",
       "</table>\n",
       "</div>"
      ],
      "text/plain": [
       "             mean       sem     ci95_hi     ci95_lo\n",
       "smoke                                              \n",
       "0      112.593990  0.497122  113.568349  111.619631\n",
       "1      114.067515  1.101288  116.226040  111.908990"
      ]
     },
     "execution_count": 14,
     "metadata": {},
     "output_type": "execute_result"
    }
   ],
   "source": [
    "stat_ap_mean_by_smoke_df = cardio_base_df.groupby('smoke')['ap_mean'].agg(['mean', 'sem'])\n",
    "stat_ap_mean_by_smoke_df['ci95_hi'] = stat_ap_mean_by_smoke_df['mean'] + 1.96 * stat_ap_mean_by_smoke_df['sem']\n",
    "stat_ap_mean_by_smoke_df['ci95_lo'] = stat_ap_mean_by_smoke_df['mean'] - 1.96 * stat_ap_mean_by_smoke_df['sem']\n",
    "stat_ap_mean_by_smoke_df"
   ]
  },
  {
   "cell_type": "code",
   "execution_count": 15,
   "id": "ea7f6e6a",
   "metadata": {
    "execution": {
     "iopub.execute_input": "2022-10-19T10:41:23.810983Z",
     "iopub.status.busy": "2022-10-19T10:41:23.810605Z",
     "iopub.status.idle": "2022-10-19T10:41:23.829691Z",
     "shell.execute_reply": "2022-10-19T10:41:23.828555Z"
    },
    "papermill": {
     "duration": 0.036299,
     "end_time": "2022-10-19T10:41:23.831882",
     "exception": false,
     "start_time": "2022-10-19T10:41:23.795583",
     "status": "completed"
    },
    "tags": []
   },
   "outputs": [
    {
     "data": {
      "text/html": [
       "<div>\n",
       "<style scoped>\n",
       "    .dataframe tbody tr th:only-of-type {\n",
       "        vertical-align: middle;\n",
       "    }\n",
       "\n",
       "    .dataframe tbody tr th {\n",
       "        vertical-align: top;\n",
       "    }\n",
       "\n",
       "    .dataframe thead th {\n",
       "        text-align: right;\n",
       "    }\n",
       "</style>\n",
       "<table border=\"1\" class=\"dataframe\">\n",
       "  <thead>\n",
       "    <tr style=\"text-align: right;\">\n",
       "      <th></th>\n",
       "      <th>mean</th>\n",
       "      <th>sem</th>\n",
       "      <th>ci95_hi</th>\n",
       "      <th>ci95_lo</th>\n",
       "    </tr>\n",
       "    <tr>\n",
       "      <th>smoke</th>\n",
       "      <th></th>\n",
       "      <th></th>\n",
       "      <th></th>\n",
       "      <th></th>\n",
       "    </tr>\n",
       "  </thead>\n",
       "  <tbody>\n",
       "    <tr>\n",
       "      <th>0</th>\n",
       "      <td>1.364682</td>\n",
       "      <td>0.002692</td>\n",
       "      <td>1.369958</td>\n",
       "      <td>1.359405</td>\n",
       "    </tr>\n",
       "    <tr>\n",
       "      <th>1</th>\n",
       "      <td>1.389528</td>\n",
       "      <td>0.008671</td>\n",
       "      <td>1.406524</td>\n",
       "      <td>1.372533</td>\n",
       "    </tr>\n",
       "  </tbody>\n",
       "</table>\n",
       "</div>"
      ],
      "text/plain": [
       "           mean       sem   ci95_hi   ci95_lo\n",
       "smoke                                        \n",
       "0      1.364682  0.002692  1.369958  1.359405\n",
       "1      1.389528  0.008671  1.406524  1.372533"
      ]
     },
     "execution_count": 15,
     "metadata": {},
     "output_type": "execute_result"
    }
   ],
   "source": [
    "stat_cholesterol_by_smoke_df = cardio_base_df.groupby('smoke')['cholesterol'].agg(['mean', 'sem'])\n",
    "stat_cholesterol_by_smoke_df['ci95_hi'] = stat_cholesterol_by_smoke_df['mean'] + 1.96 * stat_cholesterol_by_smoke_df['sem']\n",
    "stat_cholesterol_by_smoke_df['ci95_lo'] = stat_cholesterol_by_smoke_df['mean'] - 1.96 * stat_cholesterol_by_smoke_df['sem']\n",
    "stat_cholesterol_by_smoke_df"
   ]
  },
  {
   "cell_type": "code",
   "execution_count": 16,
   "id": "df2d7d1a",
   "metadata": {
    "execution": {
     "iopub.execute_input": "2022-10-19T10:41:23.861352Z",
     "iopub.status.busy": "2022-10-19T10:41:23.860693Z",
     "iopub.status.idle": "2022-10-19T10:41:23.880499Z",
     "shell.execute_reply": "2022-10-19T10:41:23.879363Z"
    },
    "papermill": {
     "duration": 0.0373,
     "end_time": "2022-10-19T10:41:23.882861",
     "exception": false,
     "start_time": "2022-10-19T10:41:23.845561",
     "status": "completed"
    },
    "tags": []
   },
   "outputs": [
    {
     "data": {
      "text/html": [
       "<div>\n",
       "<style scoped>\n",
       "    .dataframe tbody tr th:only-of-type {\n",
       "        vertical-align: middle;\n",
       "    }\n",
       "\n",
       "    .dataframe tbody tr th {\n",
       "        vertical-align: top;\n",
       "    }\n",
       "\n",
       "    .dataframe thead th {\n",
       "        text-align: right;\n",
       "    }\n",
       "</style>\n",
       "<table border=\"1\" class=\"dataframe\">\n",
       "  <thead>\n",
       "    <tr style=\"text-align: right;\">\n",
       "      <th></th>\n",
       "      <th>mean</th>\n",
       "      <th>sem</th>\n",
       "      <th>ci95_hi</th>\n",
       "      <th>ci95_lo</th>\n",
       "    </tr>\n",
       "    <tr>\n",
       "      <th>smoke</th>\n",
       "      <th></th>\n",
       "      <th></th>\n",
       "      <th></th>\n",
       "      <th></th>\n",
       "    </tr>\n",
       "  </thead>\n",
       "  <tbody>\n",
       "    <tr>\n",
       "      <th>0</th>\n",
       "      <td>73.902352</td>\n",
       "      <td>0.056594</td>\n",
       "      <td>74.013275</td>\n",
       "      <td>73.791428</td>\n",
       "    </tr>\n",
       "    <tr>\n",
       "      <th>1</th>\n",
       "      <td>77.344351</td>\n",
       "      <td>0.191148</td>\n",
       "      <td>77.719001</td>\n",
       "      <td>76.969700</td>\n",
       "    </tr>\n",
       "  </tbody>\n",
       "</table>\n",
       "</div>"
      ],
      "text/plain": [
       "            mean       sem    ci95_hi    ci95_lo\n",
       "smoke                                           \n",
       "0      73.902352  0.056594  74.013275  73.791428\n",
       "1      77.344351  0.191148  77.719001  76.969700"
      ]
     },
     "execution_count": 16,
     "metadata": {},
     "output_type": "execute_result"
    }
   ],
   "source": [
    "stat_weight_by_smoke_df = cardio_base_df.groupby('smoke')['weight'].agg(['mean', 'sem'])\n",
    "stat_weight_by_smoke_df['ci95_hi'] = stat_weight_by_smoke_df['mean'] + 1.96 * stat_weight_by_smoke_df['sem']\n",
    "stat_weight_by_smoke_df['ci95_lo'] = stat_weight_by_smoke_df['mean'] - 1.96 * stat_weight_by_smoke_df['sem']\n",
    "stat_weight_by_smoke_df"
   ]
  },
  {
   "cell_type": "code",
   "execution_count": 17,
   "id": "d679afa9",
   "metadata": {
    "execution": {
     "iopub.execute_input": "2022-10-19T10:41:23.912122Z",
     "iopub.status.busy": "2022-10-19T10:41:23.911700Z",
     "iopub.status.idle": "2022-10-19T10:41:23.931139Z",
     "shell.execute_reply": "2022-10-19T10:41:23.930034Z"
    },
    "papermill": {
     "duration": 0.036692,
     "end_time": "2022-10-19T10:41:23.933442",
     "exception": false,
     "start_time": "2022-10-19T10:41:23.896750",
     "status": "completed"
    },
    "tags": []
   },
   "outputs": [
    {
     "data": {
      "text/html": [
       "<div>\n",
       "<style scoped>\n",
       "    .dataframe tbody tr th:only-of-type {\n",
       "        vertical-align: middle;\n",
       "    }\n",
       "\n",
       "    .dataframe tbody tr th {\n",
       "        vertical-align: top;\n",
       "    }\n",
       "\n",
       "    .dataframe thead th {\n",
       "        text-align: right;\n",
       "    }\n",
       "</style>\n",
       "<table border=\"1\" class=\"dataframe\">\n",
       "  <thead>\n",
       "    <tr style=\"text-align: right;\">\n",
       "      <th></th>\n",
       "      <th>mean</th>\n",
       "      <th>sem</th>\n",
       "      <th>ci95_hi</th>\n",
       "      <th>ci95_lo</th>\n",
       "    </tr>\n",
       "    <tr>\n",
       "      <th>gender</th>\n",
       "      <th></th>\n",
       "      <th></th>\n",
       "      <th></th>\n",
       "      <th></th>\n",
       "    </tr>\n",
       "  </thead>\n",
       "  <tbody>\n",
       "    <tr>\n",
       "      <th>1</th>\n",
       "      <td>111.331013</td>\n",
       "      <td>0.556746</td>\n",
       "      <td>112.422235</td>\n",
       "      <td>110.23979</td>\n",
       "    </tr>\n",
       "    <tr>\n",
       "      <th>2</th>\n",
       "      <td>115.315427</td>\n",
       "      <td>0.827759</td>\n",
       "      <td>116.937834</td>\n",
       "      <td>113.69302</td>\n",
       "    </tr>\n",
       "  </tbody>\n",
       "</table>\n",
       "</div>"
      ],
      "text/plain": [
       "              mean       sem     ci95_hi    ci95_lo\n",
       "gender                                             \n",
       "1       111.331013  0.556746  112.422235  110.23979\n",
       "2       115.315427  0.827759  116.937834  113.69302"
      ]
     },
     "execution_count": 17,
     "metadata": {},
     "output_type": "execute_result"
    }
   ],
   "source": [
    "stat_ap_mean_by_gender_df = cardio_base_df.groupby('gender')['ap_mean'].agg(['mean', 'sem'])\n",
    "stat_ap_mean_by_gender_df['ci95_hi'] = stat_ap_mean_by_gender_df['mean'] + 1.96 * stat_ap_mean_by_gender_df['sem']\n",
    "stat_ap_mean_by_gender_df['ci95_lo'] = stat_ap_mean_by_gender_df['mean'] - 1.96 * stat_ap_mean_by_gender_df['sem']\n",
    "stat_ap_mean_by_gender_df"
   ]
  },
  {
   "cell_type": "markdown",
   "id": "7728264d",
   "metadata": {
    "papermill": {
     "duration": 0.013668,
     "end_time": "2022-10-19T10:41:23.961237",
     "exception": false,
     "start_time": "2022-10-19T10:41:23.947569",
     "status": "completed"
    },
    "tags": []
   },
   "source": [
    "# Second Dataset, Covid19 cases"
   ]
  },
  {
   "cell_type": "code",
   "execution_count": 18,
   "id": "6d7a02a4",
   "metadata": {
    "execution": {
     "iopub.execute_input": "2022-10-19T10:41:23.991367Z",
     "iopub.status.busy": "2022-10-19T10:41:23.990939Z",
     "iopub.status.idle": "2022-10-19T10:41:24.049809Z",
     "shell.execute_reply": "2022-10-19T10:41:24.049038Z"
    },
    "papermill": {
     "duration": 0.076659,
     "end_time": "2022-10-19T10:41:24.052011",
     "exception": false,
     "start_time": "2022-10-19T10:41:23.975352",
     "status": "completed"
    },
    "tags": []
   },
   "outputs": [
    {
     "data": {
      "text/html": [
       "<div>\n",
       "<style scoped>\n",
       "    .dataframe tbody tr th:only-of-type {\n",
       "        vertical-align: middle;\n",
       "    }\n",
       "\n",
       "    .dataframe tbody tr th {\n",
       "        vertical-align: top;\n",
       "    }\n",
       "\n",
       "    .dataframe thead th {\n",
       "        text-align: right;\n",
       "    }\n",
       "</style>\n",
       "<table border=\"1\" class=\"dataframe\">\n",
       "  <thead>\n",
       "    <tr style=\"text-align: right;\">\n",
       "      <th></th>\n",
       "      <th>location</th>\n",
       "      <th>date</th>\n",
       "      <th>new_cases</th>\n",
       "      <th>new_deaths</th>\n",
       "      <th>population</th>\n",
       "      <th>aged_65_older_percent</th>\n",
       "      <th>gdp_per_capita</th>\n",
       "      <th>hospital_beds_per_thousand</th>\n",
       "    </tr>\n",
       "  </thead>\n",
       "  <tbody>\n",
       "    <tr>\n",
       "      <th>0</th>\n",
       "      <td>Afghanistan</td>\n",
       "      <td>2019-12-31</td>\n",
       "      <td>0</td>\n",
       "      <td>0</td>\n",
       "      <td>38928341.0</td>\n",
       "      <td>2.581</td>\n",
       "      <td>1803.987</td>\n",
       "      <td>0.5</td>\n",
       "    </tr>\n",
       "    <tr>\n",
       "      <th>1</th>\n",
       "      <td>Afghanistan</td>\n",
       "      <td>2020-01-01</td>\n",
       "      <td>0</td>\n",
       "      <td>0</td>\n",
       "      <td>38928341.0</td>\n",
       "      <td>2.581</td>\n",
       "      <td>1803.987</td>\n",
       "      <td>0.5</td>\n",
       "    </tr>\n",
       "    <tr>\n",
       "      <th>2</th>\n",
       "      <td>Afghanistan</td>\n",
       "      <td>2020-01-02</td>\n",
       "      <td>0</td>\n",
       "      <td>0</td>\n",
       "      <td>38928341.0</td>\n",
       "      <td>2.581</td>\n",
       "      <td>1803.987</td>\n",
       "      <td>0.5</td>\n",
       "    </tr>\n",
       "    <tr>\n",
       "      <th>3</th>\n",
       "      <td>Afghanistan</td>\n",
       "      <td>2020-01-03</td>\n",
       "      <td>0</td>\n",
       "      <td>0</td>\n",
       "      <td>38928341.0</td>\n",
       "      <td>2.581</td>\n",
       "      <td>1803.987</td>\n",
       "      <td>0.5</td>\n",
       "    </tr>\n",
       "    <tr>\n",
       "      <th>4</th>\n",
       "      <td>Afghanistan</td>\n",
       "      <td>2020-01-04</td>\n",
       "      <td>0</td>\n",
       "      <td>0</td>\n",
       "      <td>38928341.0</td>\n",
       "      <td>2.581</td>\n",
       "      <td>1803.987</td>\n",
       "      <td>0.5</td>\n",
       "    </tr>\n",
       "    <tr>\n",
       "      <th>...</th>\n",
       "      <td>...</td>\n",
       "      <td>...</td>\n",
       "      <td>...</td>\n",
       "      <td>...</td>\n",
       "      <td>...</td>\n",
       "      <td>...</td>\n",
       "      <td>...</td>\n",
       "      <td>...</td>\n",
       "    </tr>\n",
       "    <tr>\n",
       "      <th>23077</th>\n",
       "      <td>International</td>\n",
       "      <td>2020-02-28</td>\n",
       "      <td>0</td>\n",
       "      <td>0</td>\n",
       "      <td>NaN</td>\n",
       "      <td>NaN</td>\n",
       "      <td>NaN</td>\n",
       "      <td>NaN</td>\n",
       "    </tr>\n",
       "    <tr>\n",
       "      <th>23078</th>\n",
       "      <td>International</td>\n",
       "      <td>2020-02-29</td>\n",
       "      <td>0</td>\n",
       "      <td>2</td>\n",
       "      <td>NaN</td>\n",
       "      <td>NaN</td>\n",
       "      <td>NaN</td>\n",
       "      <td>NaN</td>\n",
       "    </tr>\n",
       "    <tr>\n",
       "      <th>23079</th>\n",
       "      <td>International</td>\n",
       "      <td>2020-03-01</td>\n",
       "      <td>0</td>\n",
       "      <td>0</td>\n",
       "      <td>NaN</td>\n",
       "      <td>NaN</td>\n",
       "      <td>NaN</td>\n",
       "      <td>NaN</td>\n",
       "    </tr>\n",
       "    <tr>\n",
       "      <th>23080</th>\n",
       "      <td>International</td>\n",
       "      <td>2020-03-02</td>\n",
       "      <td>0</td>\n",
       "      <td>0</td>\n",
       "      <td>NaN</td>\n",
       "      <td>NaN</td>\n",
       "      <td>NaN</td>\n",
       "      <td>NaN</td>\n",
       "    </tr>\n",
       "    <tr>\n",
       "      <th>23081</th>\n",
       "      <td>International</td>\n",
       "      <td>2020-03-10</td>\n",
       "      <td>-9</td>\n",
       "      <td>1</td>\n",
       "      <td>NaN</td>\n",
       "      <td>NaN</td>\n",
       "      <td>NaN</td>\n",
       "      <td>NaN</td>\n",
       "    </tr>\n",
       "  </tbody>\n",
       "</table>\n",
       "<p>23082 rows × 8 columns</p>\n",
       "</div>"
      ],
      "text/plain": [
       "            location        date  new_cases  new_deaths  population  \\\n",
       "0        Afghanistan  2019-12-31          0           0  38928341.0   \n",
       "1        Afghanistan  2020-01-01          0           0  38928341.0   \n",
       "2        Afghanistan  2020-01-02          0           0  38928341.0   \n",
       "3        Afghanistan  2020-01-03          0           0  38928341.0   \n",
       "4        Afghanistan  2020-01-04          0           0  38928341.0   \n",
       "...              ...         ...        ...         ...         ...   \n",
       "23077  International  2020-02-28          0           0         NaN   \n",
       "23078  International  2020-02-29          0           2         NaN   \n",
       "23079  International  2020-03-01          0           0         NaN   \n",
       "23080  International  2020-03-02          0           0         NaN   \n",
       "23081  International  2020-03-10         -9           1         NaN   \n",
       "\n",
       "       aged_65_older_percent  gdp_per_capita  hospital_beds_per_thousand  \n",
       "0                      2.581        1803.987                         0.5  \n",
       "1                      2.581        1803.987                         0.5  \n",
       "2                      2.581        1803.987                         0.5  \n",
       "3                      2.581        1803.987                         0.5  \n",
       "4                      2.581        1803.987                         0.5  \n",
       "...                      ...             ...                         ...  \n",
       "23077                    NaN             NaN                         NaN  \n",
       "23078                    NaN             NaN                         NaN  \n",
       "23079                    NaN             NaN                         NaN  \n",
       "23080                    NaN             NaN                         NaN  \n",
       "23081                    NaN             NaN                         NaN  \n",
       "\n",
       "[23082 rows x 8 columns]"
      ]
     },
     "execution_count": 18,
     "metadata": {},
     "output_type": "execute_result"
    }
   ],
   "source": [
    "covid_df = pd.read_csv('/kaggle/input/covidtest/covid_data.csv')\n",
    "covid_df"
   ]
  },
  {
   "cell_type": "markdown",
   "id": "186dfb9c",
   "metadata": {
    "papermill": {
     "duration": 0.014163,
     "end_time": "2022-10-19T10:41:24.081125",
     "exception": false,
     "start_time": "2022-10-19T10:41:24.066962",
     "status": "completed"
    },
    "tags": []
   },
   "source": [
    "When did the difference in total number of confirmed cases between Italy and Germany become more than 10000?"
   ]
  },
  {
   "cell_type": "code",
   "execution_count": 19,
   "id": "e73c6319",
   "metadata": {
    "execution": {
     "iopub.execute_input": "2022-10-19T10:41:24.112514Z",
     "iopub.status.busy": "2022-10-19T10:41:24.111906Z",
     "iopub.status.idle": "2022-10-19T10:41:24.123247Z",
     "shell.execute_reply": "2022-10-19T10:41:24.122404Z"
    },
    "papermill": {
     "duration": 0.030061,
     "end_time": "2022-10-19T10:41:24.125714",
     "exception": false,
     "start_time": "2022-10-19T10:41:24.095653",
     "status": "completed"
    },
    "tags": []
   },
   "outputs": [],
   "source": [
    "covid_df['date'] = pd.to_datetime(covid_df.date)"
   ]
  },
  {
   "cell_type": "code",
   "execution_count": 20,
   "id": "e215ca71",
   "metadata": {
    "execution": {
     "iopub.execute_input": "2022-10-19T10:41:24.157426Z",
     "iopub.status.busy": "2022-10-19T10:41:24.156993Z",
     "iopub.status.idle": "2022-10-19T10:41:24.166958Z",
     "shell.execute_reply": "2022-10-19T10:41:24.165808Z"
    },
    "papermill": {
     "duration": 0.029239,
     "end_time": "2022-10-19T10:41:24.169585",
     "exception": false,
     "start_time": "2022-10-19T10:41:24.140346",
     "status": "completed"
    },
    "tags": []
   },
   "outputs": [],
   "source": [
    "germany_covid_df = covid_df[covid_df.location == \"Germany\"]\n",
    "italy_covid_df = covid_df[covid_df.location == \"Italy\"]"
   ]
  },
  {
   "cell_type": "code",
   "execution_count": 21,
   "id": "177bf553",
   "metadata": {
    "execution": {
     "iopub.execute_input": "2022-10-19T10:41:24.201367Z",
     "iopub.status.busy": "2022-10-19T10:41:24.200224Z",
     "iopub.status.idle": "2022-10-19T10:41:24.236566Z",
     "shell.execute_reply": "2022-10-19T10:41:24.235377Z"
    },
    "papermill": {
     "duration": 0.055183,
     "end_time": "2022-10-19T10:41:24.239368",
     "exception": false,
     "start_time": "2022-10-19T10:41:24.184185",
     "status": "completed"
    },
    "tags": []
   },
   "outputs": [
    {
     "name": "stderr",
     "output_type": "stream",
     "text": [
      "/opt/conda/lib/python3.7/site-packages/ipykernel_launcher.py:1: SettingWithCopyWarning: \n",
      "A value is trying to be set on a copy of a slice from a DataFrame.\n",
      "Try using .loc[row_indexer,col_indexer] = value instead\n",
      "\n",
      "See the caveats in the documentation: https://pandas.pydata.org/pandas-docs/stable/user_guide/indexing.html#returning-a-view-versus-a-copy\n",
      "  \"\"\"Entry point for launching an IPython kernel.\n",
      "/opt/conda/lib/python3.7/site-packages/ipykernel_launcher.py:2: SettingWithCopyWarning: \n",
      "A value is trying to be set on a copy of a slice from a DataFrame.\n",
      "Try using .loc[row_indexer,col_indexer] = value instead\n",
      "\n",
      "See the caveats in the documentation: https://pandas.pydata.org/pandas-docs/stable/user_guide/indexing.html#returning-a-view-versus-a-copy\n",
      "  \n"
     ]
    },
    {
     "data": {
      "text/html": [
       "<div>\n",
       "<style scoped>\n",
       "    .dataframe tbody tr th:only-of-type {\n",
       "        vertical-align: middle;\n",
       "    }\n",
       "\n",
       "    .dataframe tbody tr th {\n",
       "        vertical-align: top;\n",
       "    }\n",
       "\n",
       "    .dataframe thead th {\n",
       "        text-align: right;\n",
       "    }\n",
       "</style>\n",
       "<table border=\"1\" class=\"dataframe\">\n",
       "  <thead>\n",
       "    <tr style=\"text-align: right;\">\n",
       "      <th></th>\n",
       "      <th>location_x</th>\n",
       "      <th>date</th>\n",
       "      <th>new_cases_x</th>\n",
       "      <th>new_deaths_x</th>\n",
       "      <th>population_x</th>\n",
       "      <th>aged_65_older_percent_x</th>\n",
       "      <th>gdp_per_capita_x</th>\n",
       "      <th>hospital_beds_per_thousand_x</th>\n",
       "      <th>cumsum_x</th>\n",
       "      <th>location_y</th>\n",
       "      <th>new_cases_y</th>\n",
       "      <th>new_deaths_y</th>\n",
       "      <th>population_y</th>\n",
       "      <th>aged_65_older_percent_y</th>\n",
       "      <th>gdp_per_capita_y</th>\n",
       "      <th>hospital_beds_per_thousand_y</th>\n",
       "      <th>cumsum_y</th>\n",
       "    </tr>\n",
       "  </thead>\n",
       "  <tbody>\n",
       "    <tr>\n",
       "      <th>0</th>\n",
       "      <td>Germany</td>\n",
       "      <td>2019-12-31</td>\n",
       "      <td>0</td>\n",
       "      <td>0</td>\n",
       "      <td>83783945.0</td>\n",
       "      <td>21.453</td>\n",
       "      <td>45229.245</td>\n",
       "      <td>8.0</td>\n",
       "      <td>0</td>\n",
       "      <td>Italy</td>\n",
       "      <td>0</td>\n",
       "      <td>0</td>\n",
       "      <td>60461828.0</td>\n",
       "      <td>23.021</td>\n",
       "      <td>35220.084</td>\n",
       "      <td>3.18</td>\n",
       "      <td>0</td>\n",
       "    </tr>\n",
       "    <tr>\n",
       "      <th>1</th>\n",
       "      <td>Germany</td>\n",
       "      <td>2020-01-01</td>\n",
       "      <td>0</td>\n",
       "      <td>0</td>\n",
       "      <td>83783945.0</td>\n",
       "      <td>21.453</td>\n",
       "      <td>45229.245</td>\n",
       "      <td>8.0</td>\n",
       "      <td>0</td>\n",
       "      <td>Italy</td>\n",
       "      <td>0</td>\n",
       "      <td>0</td>\n",
       "      <td>60461828.0</td>\n",
       "      <td>23.021</td>\n",
       "      <td>35220.084</td>\n",
       "      <td>3.18</td>\n",
       "      <td>0</td>\n",
       "    </tr>\n",
       "    <tr>\n",
       "      <th>2</th>\n",
       "      <td>Germany</td>\n",
       "      <td>2020-01-02</td>\n",
       "      <td>0</td>\n",
       "      <td>0</td>\n",
       "      <td>83783945.0</td>\n",
       "      <td>21.453</td>\n",
       "      <td>45229.245</td>\n",
       "      <td>8.0</td>\n",
       "      <td>0</td>\n",
       "      <td>Italy</td>\n",
       "      <td>0</td>\n",
       "      <td>0</td>\n",
       "      <td>60461828.0</td>\n",
       "      <td>23.021</td>\n",
       "      <td>35220.084</td>\n",
       "      <td>3.18</td>\n",
       "      <td>0</td>\n",
       "    </tr>\n",
       "    <tr>\n",
       "      <th>3</th>\n",
       "      <td>Germany</td>\n",
       "      <td>2020-01-03</td>\n",
       "      <td>0</td>\n",
       "      <td>0</td>\n",
       "      <td>83783945.0</td>\n",
       "      <td>21.453</td>\n",
       "      <td>45229.245</td>\n",
       "      <td>8.0</td>\n",
       "      <td>0</td>\n",
       "      <td>Italy</td>\n",
       "      <td>0</td>\n",
       "      <td>0</td>\n",
       "      <td>60461828.0</td>\n",
       "      <td>23.021</td>\n",
       "      <td>35220.084</td>\n",
       "      <td>3.18</td>\n",
       "      <td>0</td>\n",
       "    </tr>\n",
       "    <tr>\n",
       "      <th>4</th>\n",
       "      <td>Germany</td>\n",
       "      <td>2020-01-04</td>\n",
       "      <td>0</td>\n",
       "      <td>0</td>\n",
       "      <td>83783945.0</td>\n",
       "      <td>21.453</td>\n",
       "      <td>45229.245</td>\n",
       "      <td>8.0</td>\n",
       "      <td>0</td>\n",
       "      <td>Italy</td>\n",
       "      <td>0</td>\n",
       "      <td>0</td>\n",
       "      <td>60461828.0</td>\n",
       "      <td>23.021</td>\n",
       "      <td>35220.084</td>\n",
       "      <td>3.18</td>\n",
       "      <td>0</td>\n",
       "    </tr>\n",
       "    <tr>\n",
       "      <th>...</th>\n",
       "      <td>...</td>\n",
       "      <td>...</td>\n",
       "      <td>...</td>\n",
       "      <td>...</td>\n",
       "      <td>...</td>\n",
       "      <td>...</td>\n",
       "      <td>...</td>\n",
       "      <td>...</td>\n",
       "      <td>...</td>\n",
       "      <td>...</td>\n",
       "      <td>...</td>\n",
       "      <td>...</td>\n",
       "      <td>...</td>\n",
       "      <td>...</td>\n",
       "      <td>...</td>\n",
       "      <td>...</td>\n",
       "      <td>...</td>\n",
       "    </tr>\n",
       "    <tr>\n",
       "      <th>158</th>\n",
       "      <td>Germany</td>\n",
       "      <td>2020-06-06</td>\n",
       "      <td>407</td>\n",
       "      <td>33</td>\n",
       "      <td>83783945.0</td>\n",
       "      <td>21.453</td>\n",
       "      <td>45229.245</td>\n",
       "      <td>8.0</td>\n",
       "      <td>183678</td>\n",
       "      <td>Italy</td>\n",
       "      <td>518</td>\n",
       "      <td>85</td>\n",
       "      <td>60461828.0</td>\n",
       "      <td>23.021</td>\n",
       "      <td>35220.084</td>\n",
       "      <td>3.18</td>\n",
       "      <td>234531</td>\n",
       "    </tr>\n",
       "    <tr>\n",
       "      <th>159</th>\n",
       "      <td>Germany</td>\n",
       "      <td>2020-06-07</td>\n",
       "      <td>301</td>\n",
       "      <td>22</td>\n",
       "      <td>83783945.0</td>\n",
       "      <td>21.453</td>\n",
       "      <td>45229.245</td>\n",
       "      <td>8.0</td>\n",
       "      <td>183979</td>\n",
       "      <td>Italy</td>\n",
       "      <td>270</td>\n",
       "      <td>72</td>\n",
       "      <td>60461828.0</td>\n",
       "      <td>23.021</td>\n",
       "      <td>35220.084</td>\n",
       "      <td>3.18</td>\n",
       "      <td>234801</td>\n",
       "    </tr>\n",
       "    <tr>\n",
       "      <th>160</th>\n",
       "      <td>Germany</td>\n",
       "      <td>2020-06-08</td>\n",
       "      <td>214</td>\n",
       "      <td>6</td>\n",
       "      <td>83783945.0</td>\n",
       "      <td>21.453</td>\n",
       "      <td>45229.245</td>\n",
       "      <td>8.0</td>\n",
       "      <td>184193</td>\n",
       "      <td>Italy</td>\n",
       "      <td>197</td>\n",
       "      <td>53</td>\n",
       "      <td>60461828.0</td>\n",
       "      <td>23.021</td>\n",
       "      <td>35220.084</td>\n",
       "      <td>3.18</td>\n",
       "      <td>234998</td>\n",
       "    </tr>\n",
       "    <tr>\n",
       "      <th>161</th>\n",
       "      <td>Germany</td>\n",
       "      <td>2020-06-09</td>\n",
       "      <td>350</td>\n",
       "      <td>37</td>\n",
       "      <td>83783945.0</td>\n",
       "      <td>21.453</td>\n",
       "      <td>45229.245</td>\n",
       "      <td>8.0</td>\n",
       "      <td>184543</td>\n",
       "      <td>Italy</td>\n",
       "      <td>280</td>\n",
       "      <td>65</td>\n",
       "      <td>60461828.0</td>\n",
       "      <td>23.021</td>\n",
       "      <td>35220.084</td>\n",
       "      <td>3.18</td>\n",
       "      <td>235278</td>\n",
       "    </tr>\n",
       "    <tr>\n",
       "      <th>162</th>\n",
       "      <td>Germany</td>\n",
       "      <td>2020-06-10</td>\n",
       "      <td>318</td>\n",
       "      <td>18</td>\n",
       "      <td>83783945.0</td>\n",
       "      <td>21.453</td>\n",
       "      <td>45229.245</td>\n",
       "      <td>8.0</td>\n",
       "      <td>184861</td>\n",
       "      <td>Italy</td>\n",
       "      <td>283</td>\n",
       "      <td>79</td>\n",
       "      <td>60461828.0</td>\n",
       "      <td>23.021</td>\n",
       "      <td>35220.084</td>\n",
       "      <td>3.18</td>\n",
       "      <td>235561</td>\n",
       "    </tr>\n",
       "  </tbody>\n",
       "</table>\n",
       "<p>163 rows × 17 columns</p>\n",
       "</div>"
      ],
      "text/plain": [
       "    location_x       date  new_cases_x  new_deaths_x  population_x  \\\n",
       "0      Germany 2019-12-31            0             0    83783945.0   \n",
       "1      Germany 2020-01-01            0             0    83783945.0   \n",
       "2      Germany 2020-01-02            0             0    83783945.0   \n",
       "3      Germany 2020-01-03            0             0    83783945.0   \n",
       "4      Germany 2020-01-04            0             0    83783945.0   \n",
       "..         ...        ...          ...           ...           ...   \n",
       "158    Germany 2020-06-06          407            33    83783945.0   \n",
       "159    Germany 2020-06-07          301            22    83783945.0   \n",
       "160    Germany 2020-06-08          214             6    83783945.0   \n",
       "161    Germany 2020-06-09          350            37    83783945.0   \n",
       "162    Germany 2020-06-10          318            18    83783945.0   \n",
       "\n",
       "     aged_65_older_percent_x  gdp_per_capita_x  hospital_beds_per_thousand_x  \\\n",
       "0                     21.453         45229.245                           8.0   \n",
       "1                     21.453         45229.245                           8.0   \n",
       "2                     21.453         45229.245                           8.0   \n",
       "3                     21.453         45229.245                           8.0   \n",
       "4                     21.453         45229.245                           8.0   \n",
       "..                       ...               ...                           ...   \n",
       "158                   21.453         45229.245                           8.0   \n",
       "159                   21.453         45229.245                           8.0   \n",
       "160                   21.453         45229.245                           8.0   \n",
       "161                   21.453         45229.245                           8.0   \n",
       "162                   21.453         45229.245                           8.0   \n",
       "\n",
       "     cumsum_x location_y  new_cases_y  new_deaths_y  population_y  \\\n",
       "0           0      Italy            0             0    60461828.0   \n",
       "1           0      Italy            0             0    60461828.0   \n",
       "2           0      Italy            0             0    60461828.0   \n",
       "3           0      Italy            0             0    60461828.0   \n",
       "4           0      Italy            0             0    60461828.0   \n",
       "..        ...        ...          ...           ...           ...   \n",
       "158    183678      Italy          518            85    60461828.0   \n",
       "159    183979      Italy          270            72    60461828.0   \n",
       "160    184193      Italy          197            53    60461828.0   \n",
       "161    184543      Italy          280            65    60461828.0   \n",
       "162    184861      Italy          283            79    60461828.0   \n",
       "\n",
       "     aged_65_older_percent_y  gdp_per_capita_y  hospital_beds_per_thousand_y  \\\n",
       "0                     23.021         35220.084                          3.18   \n",
       "1                     23.021         35220.084                          3.18   \n",
       "2                     23.021         35220.084                          3.18   \n",
       "3                     23.021         35220.084                          3.18   \n",
       "4                     23.021         35220.084                          3.18   \n",
       "..                       ...               ...                           ...   \n",
       "158                   23.021         35220.084                          3.18   \n",
       "159                   23.021         35220.084                          3.18   \n",
       "160                   23.021         35220.084                          3.18   \n",
       "161                   23.021         35220.084                          3.18   \n",
       "162                   23.021         35220.084                          3.18   \n",
       "\n",
       "     cumsum_y  \n",
       "0           0  \n",
       "1           0  \n",
       "2           0  \n",
       "3           0  \n",
       "4           0  \n",
       "..        ...  \n",
       "158    234531  \n",
       "159    234801  \n",
       "160    234998  \n",
       "161    235278  \n",
       "162    235561  \n",
       "\n",
       "[163 rows x 17 columns]"
      ]
     },
     "execution_count": 21,
     "metadata": {},
     "output_type": "execute_result"
    }
   ],
   "source": [
    "germany_covid_df[\"cumsum\"] = germany_covid_df.new_cases.cumsum()\n",
    "italy_covid_df[\"cumsum\"] = italy_covid_df.new_cases.cumsum()\n",
    "gr_it = pd.merge(germany_covid_df, italy_covid_df, on='date')\n",
    "gr_it"
   ]
  },
  {
   "cell_type": "code",
   "execution_count": 22,
   "id": "d2ff1ca1",
   "metadata": {
    "execution": {
     "iopub.execute_input": "2022-10-19T10:41:24.278425Z",
     "iopub.status.busy": "2022-10-19T10:41:24.277497Z",
     "iopub.status.idle": "2022-10-19T10:41:24.290700Z",
     "shell.execute_reply": "2022-10-19T10:41:24.289389Z"
    },
    "papermill": {
     "duration": 0.034592,
     "end_time": "2022-10-19T10:41:24.293266",
     "exception": false,
     "start_time": "2022-10-19T10:41:24.258674",
     "status": "completed"
    },
    "tags": []
   },
   "outputs": [
    {
     "data": {
      "text/plain": [
       "Timestamp('2020-03-12 00:00:00')"
      ]
     },
     "execution_count": 22,
     "metadata": {},
     "output_type": "execute_result"
    }
   ],
   "source": [
    "gr_it[abs(gr_it.cumsum_x - gr_it.cumsum_y) > 10000]['date'].min()"
   ]
  },
  {
   "cell_type": "markdown",
   "id": "22d97366",
   "metadata": {
    "papermill": {
     "duration": 0.01857,
     "end_time": "2022-10-19T10:41:24.330482",
     "exception": false,
     "start_time": "2022-10-19T10:41:24.311912",
     "status": "completed"
    },
    "tags": []
   },
   "source": [
    "Look at the cumulative number of confirmed cases in Italy between 2020-02-28 and 2020-03-20. Fit an exponential function (y = Ae^(Bx)) to this set to express cumulative cases as a function of days passed, by minimizing squared loss.\n",
    "What is the difference between the exponential curve and the total number of real cases on 2020-03-20?"
   ]
  },
  {
   "cell_type": "code",
   "execution_count": 23,
   "id": "fa8078f5",
   "metadata": {
    "execution": {
     "iopub.execute_input": "2022-10-19T10:41:24.367344Z",
     "iopub.status.busy": "2022-10-19T10:41:24.366798Z",
     "iopub.status.idle": "2022-10-19T10:41:24.650518Z",
     "shell.execute_reply": "2022-10-19T10:41:24.649145Z"
    },
    "papermill": {
     "duration": 0.302879,
     "end_time": "2022-10-19T10:41:24.653103",
     "exception": false,
     "start_time": "2022-10-19T10:41:24.350224",
     "status": "completed"
    },
    "tags": []
   },
   "outputs": [
    {
     "data": {
      "text/plain": [
       "<AxesSubplot:xlabel='date', ylabel='cumsum'>"
      ]
     },
     "execution_count": 23,
     "metadata": {},
     "output_type": "execute_result"
    },
    {
     "data": {
      "image/png": "[encoded data removed]",
      "text/plain": [
       "<Figure size 432x288 with 1 Axes>"
      ]
     },
     "metadata": {
      "needs_background": "light"
     },
     "output_type": "display_data"
    }
   ],
   "source": [
    "italy_cumsum_case_in_time_df = italy_covid_df[(italy_covid_df.date >= \"2020-02-28\") & (italy_covid_df.date <= \"2020-03-20\")]\n",
    "sns.lineplot(data=italy_cumsum_case_in_time_df, x='date', y='cumsum')"
   ]
  },
  {
   "cell_type": "code",
   "execution_count": 24,
   "id": "99a93c04",
   "metadata": {
    "execution": {
     "iopub.execute_input": "2022-10-19T10:41:24.687722Z",
     "iopub.status.busy": "2022-10-19T10:41:24.687257Z",
     "iopub.status.idle": "2022-10-19T10:41:24.835161Z",
     "shell.execute_reply": "2022-10-19T10:41:24.834155Z"
    },
    "papermill": {
     "duration": 0.169358,
     "end_time": "2022-10-19T10:41:24.838712",
     "exception": false,
     "start_time": "2022-10-19T10:41:24.669354",
     "status": "completed"
    },
    "tags": []
   },
   "outputs": [
    {
     "name": "stdout",
     "output_type": "stream",
     "text": [
      "[2.24520424e-06 6.80040490e+00]\n",
      "898.2109026485607 2.245204241243904e-06\n"
     ]
    },
    {
     "name": "stderr",
     "output_type": "stream",
     "text": [
      "/opt/conda/lib/python3.7/site-packages/ipykernel_launcher.py:1: FutureWarning: casting datetime64[ns] values to int64 with .astype(...) is deprecated and will raise in a future version. Use .view(...) instead.\n",
      "  \"\"\"Entry point for launching an IPython kernel.\n",
      "/opt/conda/lib/python3.7/site-packages/ipykernel_launcher.py:1: SettingWithCopyWarning: \n",
      "A value is trying to be set on a copy of a slice from a DataFrame.\n",
      "Try using .loc[row_indexer,col_indexer] = value instead\n",
      "\n",
      "See the caveats in the documentation: https://pandas.pydata.org/pandas-docs/stable/user_guide/indexing.html#returning-a-view-versus-a-copy\n",
      "  \"\"\"Entry point for launching an IPython kernel.\n",
      "/opt/conda/lib/python3.7/site-packages/ipykernel_launcher.py:2: SettingWithCopyWarning: \n",
      "A value is trying to be set on a copy of a slice from a DataFrame.\n",
      "Try using .loc[row_indexer,col_indexer] = value instead\n",
      "\n",
      "See the caveats in the documentation: https://pandas.pydata.org/pandas-docs/stable/user_guide/indexing.html#returning-a-view-versus-a-copy\n",
      "  \n"
     ]
    }
   ],
   "source": [
    "italy_cumsum_case_in_time_df['ts'] = italy_cumsum_case_in_time_df.date.astype('int64') // 10**9\n",
    "italy_cumsum_case_in_time_df['ts'] -= italy_cumsum_case_in_time_df['ts'].min()\n",
    "x = italy_cumsum_case_in_time_df['ts']\n",
    "y = italy_cumsum_case_in_time_df['cumsum']\n",
    "p = np.polyfit(x, np.log(y), 1)\n",
    "print(p)\n",
    "# Convert the polynomial back into an exponential\n",
    "a = np.exp(p[1])\n",
    "b = p[0]\n",
    "print(a, b)\n",
    "y_fitted = a * np.exp(b * x)\n",
    "# y_fitted"
   ]
  },
  {
   "cell_type": "code",
   "execution_count": 25,
   "id": "12f367a2",
   "metadata": {
    "execution": {
     "iopub.execute_input": "2022-10-19T10:41:24.872282Z",
     "iopub.status.busy": "2022-10-19T10:41:24.871860Z",
     "iopub.status.idle": "2022-10-19T10:41:25.158947Z",
     "shell.execute_reply": "2022-10-19T10:41:25.158082Z"
    },
    "papermill": {
     "duration": 0.306519,
     "end_time": "2022-10-19T10:41:25.161458",
     "exception": false,
     "start_time": "2022-10-19T10:41:24.854939",
     "status": "completed"
    },
    "tags": []
   },
   "outputs": [
    {
     "data": {
      "text/plain": [
       "<matplotlib.legend.Legend at 0x7fab10345f50>"
      ]
     },
     "execution_count": 25,
     "metadata": {},
     "output_type": "execute_result"
    },
    {
     "data": {
      "image/png": "[encoded data removed]",
      "text/plain": [
       "<Figure size 432x288 with 1 Axes>"
      ]
     },
     "metadata": {
      "needs_background": "light"
     },
     "output_type": "display_data"
    }
   ],
   "source": [
    "ax = plt.axes()\n",
    "ax.scatter(x, y, label='Raw data')\n",
    "ax.plot(x, y_fitted, 'k', label='Fitted curve')\n",
    "ax.set_title('Using polyfit() to fit an exponential function')\n",
    "ax.set_ylabel('y-Values')\n",
    "ax.set_xlabel('x-Values')\n",
    "ax.legend()"
   ]
  },
  {
   "cell_type": "code",
   "execution_count": 26,
   "id": "c2e7422d",
   "metadata": {
    "execution": {
     "iopub.execute_input": "2022-10-19T10:41:25.197666Z",
     "iopub.status.busy": "2022-10-19T10:41:25.196617Z",
     "iopub.status.idle": "2022-10-19T10:41:25.212351Z",
     "shell.execute_reply": "2022-10-19T10:41:25.211100Z"
    },
    "papermill": {
     "duration": 0.036923,
     "end_time": "2022-10-19T10:41:25.215078",
     "exception": false,
     "start_time": "2022-10-19T10:41:25.178155",
     "status": "completed"
    },
    "tags": []
   },
   "outputs": [
    {
     "data": {
      "text/html": [
       "<div>\n",
       "<style scoped>\n",
       "    .dataframe tbody tr th:only-of-type {\n",
       "        vertical-align: middle;\n",
       "    }\n",
       "\n",
       "    .dataframe tbody tr th {\n",
       "        vertical-align: top;\n",
       "    }\n",
       "\n",
       "    .dataframe thead th {\n",
       "        text-align: right;\n",
       "    }\n",
       "</style>\n",
       "<table border=\"1\" class=\"dataframe\">\n",
       "  <thead>\n",
       "    <tr style=\"text-align: right;\">\n",
       "      <th></th>\n",
       "      <th>location</th>\n",
       "      <th>date</th>\n",
       "      <th>new_cases</th>\n",
       "      <th>new_deaths</th>\n",
       "      <th>population</th>\n",
       "      <th>aged_65_older_percent</th>\n",
       "      <th>gdp_per_capita</th>\n",
       "      <th>hospital_beds_per_thousand</th>\n",
       "      <th>cumsum</th>\n",
       "      <th>ts</th>\n",
       "    </tr>\n",
       "  </thead>\n",
       "  <tbody>\n",
       "    <tr>\n",
       "      <th>10768</th>\n",
       "      <td>Italy</td>\n",
       "      <td>2020-03-20</td>\n",
       "      <td>5322</td>\n",
       "      <td>429</td>\n",
       "      <td>60461828.0</td>\n",
       "      <td>23.021</td>\n",
       "      <td>35220.084</td>\n",
       "      <td>3.18</td>\n",
       "      <td>41035</td>\n",
       "      <td>1814400</td>\n",
       "    </tr>\n",
       "  </tbody>\n",
       "</table>\n",
       "</div>"
      ],
      "text/plain": [
       "      location       date  new_cases  new_deaths  population  \\\n",
       "10768    Italy 2020-03-20       5322         429  60461828.0   \n",
       "\n",
       "       aged_65_older_percent  gdp_per_capita  hospital_beds_per_thousand  \\\n",
       "10768                 23.021       35220.084                        3.18   \n",
       "\n",
       "       cumsum       ts  \n",
       "10768   41035  1814400  "
      ]
     },
     "execution_count": 26,
     "metadata": {},
     "output_type": "execute_result"
    }
   ],
   "source": [
    "italy_data_2020_03_20 = italy_cumsum_case_in_time_df[italy_cumsum_case_in_time_df['date'] == '2020-03-20']\n",
    "italy_data_2020_03_20"
   ]
  },
  {
   "cell_type": "code",
   "execution_count": 27,
   "id": "2b85598b",
   "metadata": {
    "execution": {
     "iopub.execute_input": "2022-10-19T10:41:25.250568Z",
     "iopub.status.busy": "2022-10-19T10:41:25.250156Z",
     "iopub.status.idle": "2022-10-19T10:41:25.256487Z",
     "shell.execute_reply": "2022-10-19T10:41:25.255368Z"
    },
    "papermill": {
     "duration": 0.027936,
     "end_time": "2022-10-19T10:41:25.259692",
     "exception": false,
     "start_time": "2022-10-19T10:41:25.231756",
     "status": "completed"
    },
    "tags": []
   },
   "outputs": [
    {
     "name": "stdout",
     "output_type": "stream",
     "text": [
      "1814400 41035 52791.394540484864\n",
      "11756.394540484864\n"
     ]
    }
   ],
   "source": [
    "x_test = italy_data_2020_03_20['ts'].item()\n",
    "y_test = italy_data_2020_03_20['cumsum'].item()\n",
    "y_pred = a * np.exp(b * x_test)\n",
    "print(x_test, y_test, y_pred)\n",
    "print(y_pred - y_test)"
   ]
  },
  {
   "cell_type": "markdown",
   "id": "c7022af7",
   "metadata": {
    "papermill": {
     "duration": 0.016502,
     "end_time": "2022-10-19T10:41:25.293351",
     "exception": false,
     "start_time": "2022-10-19T10:41:25.276849",
     "status": "completed"
    },
    "tags": []
   },
   "source": [
    "Which country has the 3rd highest death rate? Death rate: total number of death per million inhabitants."
   ]
  },
  {
   "cell_type": "code",
   "execution_count": 28,
   "id": "93fbb18a",
   "metadata": {
    "execution": {
     "iopub.execute_input": "2022-10-19T10:41:25.328689Z",
     "iopub.status.busy": "2022-10-19T10:41:25.328265Z",
     "iopub.status.idle": "2022-10-19T10:41:25.352217Z",
     "shell.execute_reply": "2022-10-19T10:41:25.350961Z"
    },
    "papermill": {
     "duration": 0.044776,
     "end_time": "2022-10-19T10:41:25.354754",
     "exception": false,
     "start_time": "2022-10-19T10:41:25.309978",
     "status": "completed"
    },
    "tags": []
   },
   "outputs": [
    {
     "data": {
      "text/html": [
       "<div>\n",
       "<style scoped>\n",
       "    .dataframe tbody tr th:only-of-type {\n",
       "        vertical-align: middle;\n",
       "    }\n",
       "\n",
       "    .dataframe tbody tr th {\n",
       "        vertical-align: top;\n",
       "    }\n",
       "\n",
       "    .dataframe thead th {\n",
       "        text-align: right;\n",
       "    }\n",
       "</style>\n",
       "<table border=\"1\" class=\"dataframe\">\n",
       "  <thead>\n",
       "    <tr style=\"text-align: right;\">\n",
       "      <th></th>\n",
       "      <th>new_deaths</th>\n",
       "      <th>population</th>\n",
       "      <th>aged_65_older_percent</th>\n",
       "      <th>death_rate</th>\n",
       "    </tr>\n",
       "    <tr>\n",
       "      <th>location</th>\n",
       "      <th></th>\n",
       "      <th></th>\n",
       "      <th></th>\n",
       "      <th></th>\n",
       "    </tr>\n",
       "  </thead>\n",
       "  <tbody>\n",
       "    <tr>\n",
       "      <th>San Marino</th>\n",
       "      <td>42</td>\n",
       "      <td>33938.0</td>\n",
       "      <td>NaN</td>\n",
       "      <td>1237.550828</td>\n",
       "    </tr>\n",
       "    <tr>\n",
       "      <th>Belgium</th>\n",
       "      <td>9619</td>\n",
       "      <td>11589616.0</td>\n",
       "      <td>18.571</td>\n",
       "      <td>829.967102</td>\n",
       "    </tr>\n",
       "    <tr>\n",
       "      <th>Andorra</th>\n",
       "      <td>51</td>\n",
       "      <td>77265.0</td>\n",
       "      <td>NaN</td>\n",
       "      <td>660.066007</td>\n",
       "    </tr>\n",
       "    <tr>\n",
       "      <th>United Kingdom</th>\n",
       "      <td>40883</td>\n",
       "      <td>67886004.0</td>\n",
       "      <td>18.517</td>\n",
       "      <td>602.230174</td>\n",
       "    </tr>\n",
       "    <tr>\n",
       "      <th>Spain</th>\n",
       "      <td>27136</td>\n",
       "      <td>46754783.0</td>\n",
       "      <td>19.436</td>\n",
       "      <td>580.389818</td>\n",
       "    </tr>\n",
       "    <tr>\n",
       "      <th>...</th>\n",
       "      <td>...</td>\n",
       "      <td>...</td>\n",
       "      <td>...</td>\n",
       "      <td>...</td>\n",
       "    </tr>\n",
       "    <tr>\n",
       "      <th>French Polynesia</th>\n",
       "      <td>0</td>\n",
       "      <td>280904.0</td>\n",
       "      <td>7.775</td>\n",
       "      <td>0.000000</td>\n",
       "    </tr>\n",
       "    <tr>\n",
       "      <th>Fiji</th>\n",
       "      <td>0</td>\n",
       "      <td>896444.0</td>\n",
       "      <td>6.224</td>\n",
       "      <td>0.000000</td>\n",
       "    </tr>\n",
       "    <tr>\n",
       "      <th>Mongolia</th>\n",
       "      <td>0</td>\n",
       "      <td>3278292.0</td>\n",
       "      <td>4.031</td>\n",
       "      <td>0.000000</td>\n",
       "    </tr>\n",
       "    <tr>\n",
       "      <th>Papua New Guinea</th>\n",
       "      <td>0</td>\n",
       "      <td>8947027.0</td>\n",
       "      <td>3.808</td>\n",
       "      <td>0.000000</td>\n",
       "    </tr>\n",
       "    <tr>\n",
       "      <th>International</th>\n",
       "      <td>7</td>\n",
       "      <td>NaN</td>\n",
       "      <td>NaN</td>\n",
       "      <td>NaN</td>\n",
       "    </tr>\n",
       "  </tbody>\n",
       "</table>\n",
       "<p>212 rows × 4 columns</p>\n",
       "</div>"
      ],
      "text/plain": [
       "                  new_deaths  population  aged_65_older_percent   death_rate\n",
       "location                                                                    \n",
       "San Marino                42     33938.0                    NaN  1237.550828\n",
       "Belgium                 9619  11589616.0                 18.571   829.967102\n",
       "Andorra                   51     77265.0                    NaN   660.066007\n",
       "United Kingdom         40883  67886004.0                 18.517   602.230174\n",
       "Spain                  27136  46754783.0                 19.436   580.389818\n",
       "...                      ...         ...                    ...          ...\n",
       "French Polynesia           0    280904.0                  7.775     0.000000\n",
       "Fiji                       0    896444.0                  6.224     0.000000\n",
       "Mongolia                   0   3278292.0                  4.031     0.000000\n",
       "Papua New Guinea           0   8947027.0                  3.808     0.000000\n",
       "International              7         NaN                    NaN          NaN\n",
       "\n",
       "[212 rows x 4 columns]"
      ]
     },
     "execution_count": 28,
     "metadata": {},
     "output_type": "execute_result"
    }
   ],
   "source": [
    "country_death_rate_df = covid_df.groupby('location').agg({'new_deaths': 'sum', 'population': 'mean', 'aged_65_older_percent': 'first'})\n",
    "country_death_rate_df['death_rate'] = country_death_rate_df['new_deaths'] / country_death_rate_df['population'] * 1000000\n",
    "country_death_rate_df.sort_values(by='death_rate', ascending=False)"
   ]
  },
  {
   "cell_type": "markdown",
   "id": "b19ff41d",
   "metadata": {
    "papermill": {
     "duration": 0.01667,
     "end_time": "2022-10-19T10:41:25.388268",
     "exception": false,
     "start_time": "2022-10-19T10:41:25.371598",
     "status": "completed"
    },
    "tags": []
   },
   "source": [
    "What is the F1 score of the following statement:\n",
    "Countries, where more than 20% of the population is over 65 years old, have death rates over 50 per million inhabitants.\n",
    "Ignore countries, where any of the neccessary information is missing!"
   ]
  },
  {
   "cell_type": "code",
   "execution_count": 29,
   "id": "ba570b06",
   "metadata": {
    "execution": {
     "iopub.execute_input": "2022-10-19T10:41:25.424972Z",
     "iopub.status.busy": "2022-10-19T10:41:25.424054Z",
     "iopub.status.idle": "2022-10-19T10:41:25.441478Z",
     "shell.execute_reply": "2022-10-19T10:41:25.439864Z"
    },
    "papermill": {
     "duration": 0.038248,
     "end_time": "2022-10-19T10:41:25.443882",
     "exception": false,
     "start_time": "2022-10-19T10:41:25.405634",
     "status": "completed"
    },
    "tags": []
   },
   "outputs": [
    {
     "data": {
      "text/html": [
       "<div>\n",
       "<style scoped>\n",
       "    .dataframe tbody tr th:only-of-type {\n",
       "        vertical-align: middle;\n",
       "    }\n",
       "\n",
       "    .dataframe tbody tr th {\n",
       "        vertical-align: top;\n",
       "    }\n",
       "\n",
       "    .dataframe thead th {\n",
       "        text-align: right;\n",
       "    }\n",
       "</style>\n",
       "<table border=\"1\" class=\"dataframe\">\n",
       "  <thead>\n",
       "    <tr style=\"text-align: right;\">\n",
       "      <th></th>\n",
       "      <th>new_deaths</th>\n",
       "      <th>population</th>\n",
       "      <th>aged_65_older_percent</th>\n",
       "      <th>death_rate</th>\n",
       "    </tr>\n",
       "    <tr>\n",
       "      <th>location</th>\n",
       "      <th></th>\n",
       "      <th></th>\n",
       "      <th></th>\n",
       "      <th></th>\n",
       "    </tr>\n",
       "  </thead>\n",
       "  <tbody>\n",
       "    <tr>\n",
       "      <th>Afghanistan</th>\n",
       "      <td>384</td>\n",
       "      <td>3.892834e+07</td>\n",
       "      <td>2.581</td>\n",
       "      <td>9.864279</td>\n",
       "    </tr>\n",
       "    <tr>\n",
       "      <th>Albania</th>\n",
       "      <td>34</td>\n",
       "      <td>2.877800e+06</td>\n",
       "      <td>13.188</td>\n",
       "      <td>11.814581</td>\n",
       "    </tr>\n",
       "    <tr>\n",
       "      <th>Algeria</th>\n",
       "      <td>724</td>\n",
       "      <td>4.385104e+07</td>\n",
       "      <td>6.211</td>\n",
       "      <td>16.510440</td>\n",
       "    </tr>\n",
       "    <tr>\n",
       "      <th>Angola</th>\n",
       "      <td>4</td>\n",
       "      <td>3.286627e+07</td>\n",
       "      <td>2.405</td>\n",
       "      <td>0.121705</td>\n",
       "    </tr>\n",
       "    <tr>\n",
       "      <th>Antigua and Barbuda</th>\n",
       "      <td>3</td>\n",
       "      <td>9.792800e+04</td>\n",
       "      <td>6.933</td>\n",
       "      <td>30.634752</td>\n",
       "    </tr>\n",
       "    <tr>\n",
       "      <th>...</th>\n",
       "      <td>...</td>\n",
       "      <td>...</td>\n",
       "      <td>...</td>\n",
       "      <td>...</td>\n",
       "    </tr>\n",
       "    <tr>\n",
       "      <th>Vietnam</th>\n",
       "      <td>0</td>\n",
       "      <td>9.733858e+07</td>\n",
       "      <td>7.150</td>\n",
       "      <td>0.000000</td>\n",
       "    </tr>\n",
       "    <tr>\n",
       "      <th>World</th>\n",
       "      <td>411195</td>\n",
       "      <td>7.794799e+09</td>\n",
       "      <td>8.696</td>\n",
       "      <td>52.752485</td>\n",
       "    </tr>\n",
       "    <tr>\n",
       "      <th>Yemen</th>\n",
       "      <td>127</td>\n",
       "      <td>2.982597e+07</td>\n",
       "      <td>2.922</td>\n",
       "      <td>4.258034</td>\n",
       "    </tr>\n",
       "    <tr>\n",
       "      <th>Zambia</th>\n",
       "      <td>10</td>\n",
       "      <td>1.838396e+07</td>\n",
       "      <td>2.480</td>\n",
       "      <td>0.543953</td>\n",
       "    </tr>\n",
       "    <tr>\n",
       "      <th>Zimbabwe</th>\n",
       "      <td>4</td>\n",
       "      <td>1.486293e+07</td>\n",
       "      <td>2.822</td>\n",
       "      <td>0.269126</td>\n",
       "    </tr>\n",
       "  </tbody>\n",
       "</table>\n",
       "<p>184 rows × 4 columns</p>\n",
       "</div>"
      ],
      "text/plain": [
       "                     new_deaths    population  aged_65_older_percent  \\\n",
       "location                                                               \n",
       "Afghanistan                 384  3.892834e+07                  2.581   \n",
       "Albania                      34  2.877800e+06                 13.188   \n",
       "Algeria                     724  4.385104e+07                  6.211   \n",
       "Angola                        4  3.286627e+07                  2.405   \n",
       "Antigua and Barbuda           3  9.792800e+04                  6.933   \n",
       "...                         ...           ...                    ...   \n",
       "Vietnam                       0  9.733858e+07                  7.150   \n",
       "World                    411195  7.794799e+09                  8.696   \n",
       "Yemen                       127  2.982597e+07                  2.922   \n",
       "Zambia                       10  1.838396e+07                  2.480   \n",
       "Zimbabwe                      4  1.486293e+07                  2.822   \n",
       "\n",
       "                     death_rate  \n",
       "location                         \n",
       "Afghanistan            9.864279  \n",
       "Albania               11.814581  \n",
       "Algeria               16.510440  \n",
       "Angola                 0.121705  \n",
       "Antigua and Barbuda   30.634752  \n",
       "...                         ...  \n",
       "Vietnam                0.000000  \n",
       "World                 52.752485  \n",
       "Yemen                  4.258034  \n",
       "Zambia                 0.543953  \n",
       "Zimbabwe               0.269126  \n",
       "\n",
       "[184 rows x 4 columns]"
      ]
     },
     "execution_count": 29,
     "metadata": {},
     "output_type": "execute_result"
    }
   ],
   "source": [
    "country_death_rate_dropna_df = country_death_rate_df.dropna()\n",
    "country_death_rate_dropna_df"
   ]
  },
  {
   "cell_type": "code",
   "execution_count": 30,
   "id": "ce3e4c8e",
   "metadata": {
    "execution": {
     "iopub.execute_input": "2022-10-19T10:41:25.479839Z",
     "iopub.status.busy": "2022-10-19T10:41:25.479439Z",
     "iopub.status.idle": "2022-10-19T10:41:25.493070Z",
     "shell.execute_reply": "2022-10-19T10:41:25.492147Z"
    },
    "papermill": {
     "duration": 0.034082,
     "end_time": "2022-10-19T10:41:25.495286",
     "exception": false,
     "start_time": "2022-10-19T10:41:25.461204",
     "status": "completed"
    },
    "tags": []
   },
   "outputs": [
    {
     "data": {
      "text/html": [
       "<div>\n",
       "<style scoped>\n",
       "    .dataframe tbody tr th:only-of-type {\n",
       "        vertical-align: middle;\n",
       "    }\n",
       "\n",
       "    .dataframe tbody tr th {\n",
       "        vertical-align: top;\n",
       "    }\n",
       "\n",
       "    .dataframe thead th {\n",
       "        text-align: right;\n",
       "    }\n",
       "</style>\n",
       "<table border=\"1\" class=\"dataframe\">\n",
       "  <thead>\n",
       "    <tr style=\"text-align: right;\">\n",
       "      <th></th>\n",
       "      <th>new_deaths</th>\n",
       "      <th>population</th>\n",
       "      <th>aged_65_older_percent</th>\n",
       "      <th>death_rate</th>\n",
       "    </tr>\n",
       "    <tr>\n",
       "      <th>location</th>\n",
       "      <th></th>\n",
       "      <th></th>\n",
       "      <th></th>\n",
       "      <th></th>\n",
       "    </tr>\n",
       "  </thead>\n",
       "  <tbody>\n",
       "    <tr>\n",
       "      <th>Bulgaria</th>\n",
       "      <td>167</td>\n",
       "      <td>6948445.0</td>\n",
       "      <td>20.801</td>\n",
       "      <td>24.034154</td>\n",
       "    </tr>\n",
       "    <tr>\n",
       "      <th>Finland</th>\n",
       "      <td>324</td>\n",
       "      <td>5540718.0</td>\n",
       "      <td>21.228</td>\n",
       "      <td>58.476176</td>\n",
       "    </tr>\n",
       "    <tr>\n",
       "      <th>Germany</th>\n",
       "      <td>8729</td>\n",
       "      <td>83783945.0</td>\n",
       "      <td>21.453</td>\n",
       "      <td>104.184638</td>\n",
       "    </tr>\n",
       "    <tr>\n",
       "      <th>Greece</th>\n",
       "      <td>183</td>\n",
       "      <td>10423056.0</td>\n",
       "      <td>20.396</td>\n",
       "      <td>17.557231</td>\n",
       "    </tr>\n",
       "    <tr>\n",
       "      <th>Italy</th>\n",
       "      <td>34043</td>\n",
       "      <td>60461828.0</td>\n",
       "      <td>23.021</td>\n",
       "      <td>563.049467</td>\n",
       "    </tr>\n",
       "    <tr>\n",
       "      <th>Japan</th>\n",
       "      <td>919</td>\n",
       "      <td>126476458.0</td>\n",
       "      <td>27.049</td>\n",
       "      <td>7.266174</td>\n",
       "    </tr>\n",
       "    <tr>\n",
       "      <th>Portugal</th>\n",
       "      <td>1492</td>\n",
       "      <td>10196707.0</td>\n",
       "      <td>21.502</td>\n",
       "      <td>146.321749</td>\n",
       "    </tr>\n",
       "  </tbody>\n",
       "</table>\n",
       "</div>"
      ],
      "text/plain": [
       "          new_deaths   population  aged_65_older_percent  death_rate\n",
       "location                                                            \n",
       "Bulgaria         167    6948445.0                 20.801   24.034154\n",
       "Finland          324    5540718.0                 21.228   58.476176\n",
       "Germany         8729   83783945.0                 21.453  104.184638\n",
       "Greece           183   10423056.0                 20.396   17.557231\n",
       "Italy          34043   60461828.0                 23.021  563.049467\n",
       "Japan            919  126476458.0                 27.049    7.266174\n",
       "Portugal        1492   10196707.0                 21.502  146.321749"
      ]
     },
     "execution_count": 30,
     "metadata": {},
     "output_type": "execute_result"
    }
   ],
   "source": [
    "country_aged_65_over_20_percent = country_death_rate_dropna_df[country_death_rate_dropna_df.aged_65_older_percent > 20]\n",
    "country_aged_65_over_20_percent"
   ]
  },
  {
   "cell_type": "code",
   "execution_count": 31,
   "id": "d81828d1",
   "metadata": {
    "execution": {
     "iopub.execute_input": "2022-10-19T10:41:25.532772Z",
     "iopub.status.busy": "2022-10-19T10:41:25.532047Z",
     "iopub.status.idle": "2022-10-19T10:41:25.544326Z",
     "shell.execute_reply": "2022-10-19T10:41:25.543115Z"
    },
    "papermill": {
     "duration": 0.033631,
     "end_time": "2022-10-19T10:41:25.546870",
     "exception": false,
     "start_time": "2022-10-19T10:41:25.513239",
     "status": "completed"
    },
    "tags": []
   },
   "outputs": [
    {
     "data": {
      "text/html": [
       "<div>\n",
       "<style scoped>\n",
       "    .dataframe tbody tr th:only-of-type {\n",
       "        vertical-align: middle;\n",
       "    }\n",
       "\n",
       "    .dataframe tbody tr th {\n",
       "        vertical-align: top;\n",
       "    }\n",
       "\n",
       "    .dataframe thead th {\n",
       "        text-align: right;\n",
       "    }\n",
       "</style>\n",
       "<table border=\"1\" class=\"dataframe\">\n",
       "  <thead>\n",
       "    <tr style=\"text-align: right;\">\n",
       "      <th></th>\n",
       "      <th>new_deaths</th>\n",
       "      <th>population</th>\n",
       "      <th>aged_65_older_percent</th>\n",
       "      <th>death_rate</th>\n",
       "    </tr>\n",
       "    <tr>\n",
       "      <th>location</th>\n",
       "      <th></th>\n",
       "      <th></th>\n",
       "      <th></th>\n",
       "      <th></th>\n",
       "    </tr>\n",
       "  </thead>\n",
       "  <tbody>\n",
       "    <tr>\n",
       "      <th>Finland</th>\n",
       "      <td>324</td>\n",
       "      <td>5540718.0</td>\n",
       "      <td>21.228</td>\n",
       "      <td>58.476176</td>\n",
       "    </tr>\n",
       "    <tr>\n",
       "      <th>Germany</th>\n",
       "      <td>8729</td>\n",
       "      <td>83783945.0</td>\n",
       "      <td>21.453</td>\n",
       "      <td>104.184638</td>\n",
       "    </tr>\n",
       "    <tr>\n",
       "      <th>Italy</th>\n",
       "      <td>34043</td>\n",
       "      <td>60461828.0</td>\n",
       "      <td>23.021</td>\n",
       "      <td>563.049467</td>\n",
       "    </tr>\n",
       "    <tr>\n",
       "      <th>Portugal</th>\n",
       "      <td>1492</td>\n",
       "      <td>10196707.0</td>\n",
       "      <td>21.502</td>\n",
       "      <td>146.321749</td>\n",
       "    </tr>\n",
       "  </tbody>\n",
       "</table>\n",
       "</div>"
      ],
      "text/plain": [
       "          new_deaths  population  aged_65_older_percent  death_rate\n",
       "location                                                           \n",
       "Finland          324   5540718.0                 21.228   58.476176\n",
       "Germany         8729  83783945.0                 21.453  104.184638\n",
       "Italy          34043  60461828.0                 23.021  563.049467\n",
       "Portugal        1492  10196707.0                 21.502  146.321749"
      ]
     },
     "execution_count": 31,
     "metadata": {},
     "output_type": "execute_result"
    }
   ],
   "source": [
    "country_aged_65_over_20_percent_death_rate_over_50_per_million = country_aged_65_over_20_percent[country_aged_65_over_20_percent.death_rate > 50]\n",
    "country_aged_65_over_20_percent_death_rate_over_50_per_million"
   ]
  },
  {
   "cell_type": "code",
   "execution_count": 32,
   "id": "41a2877d",
   "metadata": {
    "execution": {
     "iopub.execute_input": "2022-10-19T10:41:25.584064Z",
     "iopub.status.busy": "2022-10-19T10:41:25.583629Z",
     "iopub.status.idle": "2022-10-19T10:41:25.770405Z",
     "shell.execute_reply": "2022-10-19T10:41:25.769135Z"
    },
    "papermill": {
     "duration": 0.208228,
     "end_time": "2022-10-19T10:41:25.772893",
     "exception": false,
     "start_time": "2022-10-19T10:41:25.564665",
     "status": "completed"
    },
    "tags": []
   },
   "outputs": [
    {
     "data": {
      "text/plain": [
       "0.7272727272727273"
      ]
     },
     "execution_count": 32,
     "metadata": {},
     "output_type": "execute_result"
    }
   ],
   "source": [
    "from sklearn.metrics import f1_score\n",
    "y_pred = [1] * len(country_aged_65_over_20_percent)\n",
    "y_true = [1] * len(country_aged_65_over_20_percent_death_rate_over_50_per_million) + [0] * (len(country_aged_65_over_20_percent) - len(country_aged_65_over_20_percent_death_rate_over_50_per_million))\n",
    "f1_score(y_true, y_pred)"
   ]
  },
  {
   "cell_type": "markdown",
   "id": "53543d0f",
   "metadata": {
    "papermill": {
     "duration": 0.017045,
     "end_time": "2022-10-19T10:41:25.807475",
     "exception": false,
     "start_time": "2022-10-19T10:41:25.790430",
     "status": "completed"
    },
    "tags": []
   },
   "source": [
    "What is the probability that a country has GDP over $10000, if we known that they have at least 5 hospital beds per 1000 inhabitants."
   ]
  },
  {
   "cell_type": "code",
   "execution_count": 33,
   "id": "53eef074",
   "metadata": {
    "execution": {
     "iopub.execute_input": "2022-10-19T10:41:25.844415Z",
     "iopub.status.busy": "2022-10-19T10:41:25.844016Z",
     "iopub.status.idle": "2022-10-19T10:41:25.864823Z",
     "shell.execute_reply": "2022-10-19T10:41:25.863656Z"
    },
    "papermill": {
     "duration": 0.042889,
     "end_time": "2022-10-19T10:41:25.867841",
     "exception": false,
     "start_time": "2022-10-19T10:41:25.824952",
     "status": "completed"
    },
    "tags": []
   },
   "outputs": [
    {
     "name": "stderr",
     "output_type": "stream",
     "text": [
      "/opt/conda/lib/python3.7/site-packages/ipykernel_launcher.py:1: FutureWarning: Indexing with multiple keys (implicitly converted to a tuple of keys) will be deprecated, use a list instead.\n",
      "  \"\"\"Entry point for launching an IPython kernel.\n"
     ]
    },
    {
     "data": {
      "text/html": [
       "<div>\n",
       "<style scoped>\n",
       "    .dataframe tbody tr th:only-of-type {\n",
       "        vertical-align: middle;\n",
       "    }\n",
       "\n",
       "    .dataframe tbody tr th {\n",
       "        vertical-align: top;\n",
       "    }\n",
       "\n",
       "    .dataframe thead th {\n",
       "        text-align: right;\n",
       "    }\n",
       "</style>\n",
       "<table border=\"1\" class=\"dataframe\">\n",
       "  <thead>\n",
       "    <tr style=\"text-align: right;\">\n",
       "      <th></th>\n",
       "      <th>gdp_per_capita</th>\n",
       "      <th>hospital_beds_per_thousand</th>\n",
       "    </tr>\n",
       "    <tr>\n",
       "      <th>location</th>\n",
       "      <th></th>\n",
       "      <th></th>\n",
       "    </tr>\n",
       "  </thead>\n",
       "  <tbody>\n",
       "    <tr>\n",
       "      <th>Afghanistan</th>\n",
       "      <td>1803.987</td>\n",
       "      <td>0.500</td>\n",
       "    </tr>\n",
       "    <tr>\n",
       "      <th>Albania</th>\n",
       "      <td>11803.431</td>\n",
       "      <td>2.890</td>\n",
       "    </tr>\n",
       "    <tr>\n",
       "      <th>Algeria</th>\n",
       "      <td>13913.839</td>\n",
       "      <td>1.900</td>\n",
       "    </tr>\n",
       "    <tr>\n",
       "      <th>Antigua and Barbuda</th>\n",
       "      <td>21490.943</td>\n",
       "      <td>3.800</td>\n",
       "    </tr>\n",
       "    <tr>\n",
       "      <th>Argentina</th>\n",
       "      <td>18933.907</td>\n",
       "      <td>5.000</td>\n",
       "    </tr>\n",
       "    <tr>\n",
       "      <th>...</th>\n",
       "      <td>...</td>\n",
       "      <td>...</td>\n",
       "    </tr>\n",
       "    <tr>\n",
       "      <th>Vietnam</th>\n",
       "      <td>6171.884</td>\n",
       "      <td>2.600</td>\n",
       "    </tr>\n",
       "    <tr>\n",
       "      <th>World</th>\n",
       "      <td>15469.207</td>\n",
       "      <td>2.705</td>\n",
       "    </tr>\n",
       "    <tr>\n",
       "      <th>Yemen</th>\n",
       "      <td>1479.147</td>\n",
       "      <td>0.700</td>\n",
       "    </tr>\n",
       "    <tr>\n",
       "      <th>Zambia</th>\n",
       "      <td>3689.251</td>\n",
       "      <td>2.000</td>\n",
       "    </tr>\n",
       "    <tr>\n",
       "      <th>Zimbabwe</th>\n",
       "      <td>1899.775</td>\n",
       "      <td>1.700</td>\n",
       "    </tr>\n",
       "  </tbody>\n",
       "</table>\n",
       "<p>160 rows × 2 columns</p>\n",
       "</div>"
      ],
      "text/plain": [
       "                     gdp_per_capita  hospital_beds_per_thousand\n",
       "location                                                       \n",
       "Afghanistan                1803.987                       0.500\n",
       "Albania                   11803.431                       2.890\n",
       "Algeria                   13913.839                       1.900\n",
       "Antigua and Barbuda       21490.943                       3.800\n",
       "Argentina                 18933.907                       5.000\n",
       "...                             ...                         ...\n",
       "Vietnam                    6171.884                       2.600\n",
       "World                     15469.207                       2.705\n",
       "Yemen                      1479.147                       0.700\n",
       "Zambia                     3689.251                       2.000\n",
       "Zimbabwe                   1899.775                       1.700\n",
       "\n",
       "[160 rows x 2 columns]"
      ]
     },
     "execution_count": 33,
     "metadata": {},
     "output_type": "execute_result"
    }
   ],
   "source": [
    "gdp_beds_by_country_df = covid_df.groupby('location')['gdp_per_capita', 'hospital_beds_per_thousand'].agg('first').dropna()\n",
    "gdp_beds_by_country_df"
   ]
  },
  {
   "cell_type": "code",
   "execution_count": 34,
   "id": "118fd809",
   "metadata": {
    "execution": {
     "iopub.execute_input": "2022-10-19T10:41:25.905738Z",
     "iopub.status.busy": "2022-10-19T10:41:25.905331Z",
     "iopub.status.idle": "2022-10-19T10:41:25.914741Z",
     "shell.execute_reply": "2022-10-19T10:41:25.913520Z"
    },
    "papermill": {
     "duration": 0.030935,
     "end_time": "2022-10-19T10:41:25.916900",
     "exception": false,
     "start_time": "2022-10-19T10:41:25.885965",
     "status": "completed"
    },
    "tags": []
   },
   "outputs": [
    {
     "data": {
      "text/plain": [
       "0.8846153846153846"
      ]
     },
     "execution_count": 34,
     "metadata": {},
     "output_type": "execute_result"
    }
   ],
   "source": [
    "country_at_least_5_beds_per_thousand_hospitals = gdp_beds_by_country_df[gdp_beds_by_country_df.hospital_beds_per_thousand >= 5]\n",
    "country_at_least_5_beds_gdp_over_10000 = country_at_least_5_beds_per_thousand_hospitals[country_at_least_5_beds_per_thousand_hospitals.gdp_per_capita > 10000]\n",
    "# country_at_least_5_beds_per_thousand_hospitals\n",
    "len(country_at_least_5_beds_gdp_over_10000)/len(country_at_least_5_beds_per_thousand_hospitals)"
   ]
  }
 ],
 "metadata": {
  "kernelspec": {
   "display_name": "Python 3",
   "language": "python",
   "name": "python3"
  },
  "language_info": {
   "codemirror_mode": {
    "name": "ipython",
    "version": 3
   },
   "file_extension": ".py",
   "mimetype": "text/x-python",
   "name": "python",
   "nbconvert_exporter": "python",
   "pygments_lexer": "ipython3",
   "version": "3.7.12"
  },
  "papermill": {
   "default_parameters": {},
   "duration": 14.452591,
   "end_time": "2022-10-19T10:41:26.657227",
   "environment_variables": {},
   "exception": null,
   "input_path": "__notebook__.ipynb",
   "output_path": "__notebook__.ipynb",
   "parameters": {},
   "start_time": "2022-10-19T10:41:12.204636",
   "version": "2.3.4"
  }
 },
 "nbformat": 4,
 "nbformat_minor": 5
}
